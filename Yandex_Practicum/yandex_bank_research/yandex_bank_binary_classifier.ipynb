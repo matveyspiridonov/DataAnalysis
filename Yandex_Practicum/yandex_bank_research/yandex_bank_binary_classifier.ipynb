{
  "nbformat": 4,
  "nbformat_minor": 0,
  "metadata": {
    "kernelspec": {
      "display_name": "Python 3",
      "language": "python",
      "name": "python3"
    },
    "language_info": {
      "codemirror_mode": {
        "name": "ipython",
        "version": 3
      },
      "file_extension": ".py",
      "mimetype": "text/x-python",
      "name": "python",
      "nbconvert_exporter": "python",
      "pygments_lexer": "ipython3",
      "version": "3.7.6"
    },
    "colab": {
      "name": "yandex_bank_binary_classifier.ipynb",
      "provenance": [],
      "include_colab_link": true
    }
  },
  "cells": [
    {
      "cell_type": "markdown",
      "metadata": {
        "id": "view-in-github",
        "colab_type": "text"
      },
      "source": [
        "<a href=\"https://colab.research.google.com/github/AmayFox/DataAnalysis/blob/main/yandex_bank_research/yandex_bank_binary_classifier.ipynb\" target=\"_parent\"><img src=\"https://colab.research.google.com/assets/colab-badge.svg\" alt=\"Open In Colab\"/></a>"
      ]
    },
    {
      "cell_type": "markdown",
      "metadata": {
        "id": "9nLhyCbRnDtk"
      },
      "source": [
        "# Отток клиентов"
      ]
    },
    {
      "cell_type": "markdown",
      "metadata": {
        "id": "HEIa8c-PnDtk"
      },
      "source": [
        "Из «Бета-Банка» стали уходить клиенты. Каждый месяц. Немного, но заметно. Банковские маркетологи посчитали: сохранять текущих клиентов дешевле, чем привлекать новых.\n",
        "\n",
        "Нужно спрогнозировать, уйдёт клиент из банка в ближайшее время или нет. Вам предоставлены исторические данные о поведении клиентов и расторжении договоров с банком. \n",
        "\n",
        "Постройте модель с предельно большим значением *F1*-меры. Чтобы сдать проект успешно, нужно довести метрику до 0.59. Проверьте *F1*-меру на тестовой выборке самостоятельно.\n",
        "\n",
        "Дополнительно измеряйте *AUC-ROC*, сравнивайте её значение с *F1*-мерой.\n",
        "\n",
        "Источник данных: [https://www.kaggle.com/barelydedicated/bank-customer-churn-modeling](https://www.kaggle.com/barelydedicated/bank-customer-churn-modeling)"
      ]
    },
    {
      "cell_type": "markdown",
      "metadata": {
        "id": "soRM15cjnDtl"
      },
      "source": [
        "## План исследования\n",
        "\n",
        "1. [Шаг 1. Подготовка данных](#step1)\n",
        "\n",
        "\n",
        "2. [Шаг 2. Исследование задачи](#step2)\n",
        "\n",
        "\n",
        "3. [Шаг 3. Борьба с дисбалансом](#step3)\n",
        "\n",
        "\n",
        "4. [Шаг 4. Тестирование модели](#step4)"
      ]
    },
    {
      "cell_type": "markdown",
      "metadata": {
        "id": "3mY-a-aynDtl"
      },
      "source": [
        "# 1. Подготовка данных <a id=\"step1\"></a>"
      ]
    },
    {
      "cell_type": "code",
      "metadata": {
        "id": "JJP8Jo1LnDtl"
      },
      "source": [
        "import pandas as pd\n",
        "import numpy as np\n",
        "from sklearn.model_selection import train_test_split\n",
        "from sklearn.ensemble import RandomForestClassifier\n",
        "from sklearn.dummy import DummyClassifier\n",
        "from sklearn.metrics import f1_score\n",
        "from sklearn.utils import shuffle\n",
        "import warnings\n",
        "from sklearn.metrics import roc_auc_score\n",
        "warnings.filterwarnings('ignore')"
      ],
      "execution_count": null,
      "outputs": []
    },
    {
      "cell_type": "code",
      "metadata": {
        "scrolled": true,
        "id": "qQvWN5gunDtm",
        "outputId": "a13b2c7d-b80a-45be-caf7-5a08b1c47151"
      },
      "source": [
        "df = pd.read_csv('/datasets/Churn.csv')\n",
        "df.head(10)"
      ],
      "execution_count": null,
      "outputs": [
        {
          "output_type": "execute_result",
          "data": {
            "text/html": [
              "<div>\n",
              "<style scoped>\n",
              "    .dataframe tbody tr th:only-of-type {\n",
              "        vertical-align: middle;\n",
              "    }\n",
              "\n",
              "    .dataframe tbody tr th {\n",
              "        vertical-align: top;\n",
              "    }\n",
              "\n",
              "    .dataframe thead th {\n",
              "        text-align: right;\n",
              "    }\n",
              "</style>\n",
              "<table border=\"1\" class=\"dataframe\">\n",
              "  <thead>\n",
              "    <tr style=\"text-align: right;\">\n",
              "      <th></th>\n",
              "      <th>RowNumber</th>\n",
              "      <th>CustomerId</th>\n",
              "      <th>Surname</th>\n",
              "      <th>CreditScore</th>\n",
              "      <th>Geography</th>\n",
              "      <th>Gender</th>\n",
              "      <th>Age</th>\n",
              "      <th>Tenure</th>\n",
              "      <th>Balance</th>\n",
              "      <th>NumOfProducts</th>\n",
              "      <th>HasCrCard</th>\n",
              "      <th>IsActiveMember</th>\n",
              "      <th>EstimatedSalary</th>\n",
              "      <th>Exited</th>\n",
              "    </tr>\n",
              "  </thead>\n",
              "  <tbody>\n",
              "    <tr>\n",
              "      <td>0</td>\n",
              "      <td>1</td>\n",
              "      <td>15634602</td>\n",
              "      <td>Hargrave</td>\n",
              "      <td>619</td>\n",
              "      <td>France</td>\n",
              "      <td>Female</td>\n",
              "      <td>42</td>\n",
              "      <td>2.0</td>\n",
              "      <td>0.00</td>\n",
              "      <td>1</td>\n",
              "      <td>1</td>\n",
              "      <td>1</td>\n",
              "      <td>101348.88</td>\n",
              "      <td>1</td>\n",
              "    </tr>\n",
              "    <tr>\n",
              "      <td>1</td>\n",
              "      <td>2</td>\n",
              "      <td>15647311</td>\n",
              "      <td>Hill</td>\n",
              "      <td>608</td>\n",
              "      <td>Spain</td>\n",
              "      <td>Female</td>\n",
              "      <td>41</td>\n",
              "      <td>1.0</td>\n",
              "      <td>83807.86</td>\n",
              "      <td>1</td>\n",
              "      <td>0</td>\n",
              "      <td>1</td>\n",
              "      <td>112542.58</td>\n",
              "      <td>0</td>\n",
              "    </tr>\n",
              "    <tr>\n",
              "      <td>2</td>\n",
              "      <td>3</td>\n",
              "      <td>15619304</td>\n",
              "      <td>Onio</td>\n",
              "      <td>502</td>\n",
              "      <td>France</td>\n",
              "      <td>Female</td>\n",
              "      <td>42</td>\n",
              "      <td>8.0</td>\n",
              "      <td>159660.80</td>\n",
              "      <td>3</td>\n",
              "      <td>1</td>\n",
              "      <td>0</td>\n",
              "      <td>113931.57</td>\n",
              "      <td>1</td>\n",
              "    </tr>\n",
              "    <tr>\n",
              "      <td>3</td>\n",
              "      <td>4</td>\n",
              "      <td>15701354</td>\n",
              "      <td>Boni</td>\n",
              "      <td>699</td>\n",
              "      <td>France</td>\n",
              "      <td>Female</td>\n",
              "      <td>39</td>\n",
              "      <td>1.0</td>\n",
              "      <td>0.00</td>\n",
              "      <td>2</td>\n",
              "      <td>0</td>\n",
              "      <td>0</td>\n",
              "      <td>93826.63</td>\n",
              "      <td>0</td>\n",
              "    </tr>\n",
              "    <tr>\n",
              "      <td>4</td>\n",
              "      <td>5</td>\n",
              "      <td>15737888</td>\n",
              "      <td>Mitchell</td>\n",
              "      <td>850</td>\n",
              "      <td>Spain</td>\n",
              "      <td>Female</td>\n",
              "      <td>43</td>\n",
              "      <td>2.0</td>\n",
              "      <td>125510.82</td>\n",
              "      <td>1</td>\n",
              "      <td>1</td>\n",
              "      <td>1</td>\n",
              "      <td>79084.10</td>\n",
              "      <td>0</td>\n",
              "    </tr>\n",
              "    <tr>\n",
              "      <td>5</td>\n",
              "      <td>6</td>\n",
              "      <td>15574012</td>\n",
              "      <td>Chu</td>\n",
              "      <td>645</td>\n",
              "      <td>Spain</td>\n",
              "      <td>Male</td>\n",
              "      <td>44</td>\n",
              "      <td>8.0</td>\n",
              "      <td>113755.78</td>\n",
              "      <td>2</td>\n",
              "      <td>1</td>\n",
              "      <td>0</td>\n",
              "      <td>149756.71</td>\n",
              "      <td>1</td>\n",
              "    </tr>\n",
              "    <tr>\n",
              "      <td>6</td>\n",
              "      <td>7</td>\n",
              "      <td>15592531</td>\n",
              "      <td>Bartlett</td>\n",
              "      <td>822</td>\n",
              "      <td>France</td>\n",
              "      <td>Male</td>\n",
              "      <td>50</td>\n",
              "      <td>7.0</td>\n",
              "      <td>0.00</td>\n",
              "      <td>2</td>\n",
              "      <td>1</td>\n",
              "      <td>1</td>\n",
              "      <td>10062.80</td>\n",
              "      <td>0</td>\n",
              "    </tr>\n",
              "    <tr>\n",
              "      <td>7</td>\n",
              "      <td>8</td>\n",
              "      <td>15656148</td>\n",
              "      <td>Obinna</td>\n",
              "      <td>376</td>\n",
              "      <td>Germany</td>\n",
              "      <td>Female</td>\n",
              "      <td>29</td>\n",
              "      <td>4.0</td>\n",
              "      <td>115046.74</td>\n",
              "      <td>4</td>\n",
              "      <td>1</td>\n",
              "      <td>0</td>\n",
              "      <td>119346.88</td>\n",
              "      <td>1</td>\n",
              "    </tr>\n",
              "    <tr>\n",
              "      <td>8</td>\n",
              "      <td>9</td>\n",
              "      <td>15792365</td>\n",
              "      <td>He</td>\n",
              "      <td>501</td>\n",
              "      <td>France</td>\n",
              "      <td>Male</td>\n",
              "      <td>44</td>\n",
              "      <td>4.0</td>\n",
              "      <td>142051.07</td>\n",
              "      <td>2</td>\n",
              "      <td>0</td>\n",
              "      <td>1</td>\n",
              "      <td>74940.50</td>\n",
              "      <td>0</td>\n",
              "    </tr>\n",
              "    <tr>\n",
              "      <td>9</td>\n",
              "      <td>10</td>\n",
              "      <td>15592389</td>\n",
              "      <td>H?</td>\n",
              "      <td>684</td>\n",
              "      <td>France</td>\n",
              "      <td>Male</td>\n",
              "      <td>27</td>\n",
              "      <td>2.0</td>\n",
              "      <td>134603.88</td>\n",
              "      <td>1</td>\n",
              "      <td>1</td>\n",
              "      <td>1</td>\n",
              "      <td>71725.73</td>\n",
              "      <td>0</td>\n",
              "    </tr>\n",
              "  </tbody>\n",
              "</table>\n",
              "</div>"
            ],
            "text/plain": [
              "   RowNumber  CustomerId   Surname  CreditScore Geography  Gender  Age  \\\n",
              "0          1    15634602  Hargrave          619    France  Female   42   \n",
              "1          2    15647311      Hill          608     Spain  Female   41   \n",
              "2          3    15619304      Onio          502    France  Female   42   \n",
              "3          4    15701354      Boni          699    France  Female   39   \n",
              "4          5    15737888  Mitchell          850     Spain  Female   43   \n",
              "5          6    15574012       Chu          645     Spain    Male   44   \n",
              "6          7    15592531  Bartlett          822    France    Male   50   \n",
              "7          8    15656148    Obinna          376   Germany  Female   29   \n",
              "8          9    15792365        He          501    France    Male   44   \n",
              "9         10    15592389        H?          684    France    Male   27   \n",
              "\n",
              "   Tenure    Balance  NumOfProducts  HasCrCard  IsActiveMember  \\\n",
              "0     2.0       0.00              1          1               1   \n",
              "1     1.0   83807.86              1          0               1   \n",
              "2     8.0  159660.80              3          1               0   \n",
              "3     1.0       0.00              2          0               0   \n",
              "4     2.0  125510.82              1          1               1   \n",
              "5     8.0  113755.78              2          1               0   \n",
              "6     7.0       0.00              2          1               1   \n",
              "7     4.0  115046.74              4          1               0   \n",
              "8     4.0  142051.07              2          0               1   \n",
              "9     2.0  134603.88              1          1               1   \n",
              "\n",
              "   EstimatedSalary  Exited  \n",
              "0        101348.88       1  \n",
              "1        112542.58       0  \n",
              "2        113931.57       1  \n",
              "3         93826.63       0  \n",
              "4         79084.10       0  \n",
              "5        149756.71       1  \n",
              "6         10062.80       0  \n",
              "7        119346.88       1  \n",
              "8         74940.50       0  \n",
              "9         71725.73       0  "
            ]
          },
          "metadata": {
            "tags": []
          },
          "execution_count": 57
        }
      ]
    },
    {
      "cell_type": "code",
      "metadata": {
        "id": "WcL0JiXgnDto",
        "outputId": "d2f46324-0547-46ac-88dc-44dca25752fd"
      },
      "source": [
        "df.isna().sum()"
      ],
      "execution_count": null,
      "outputs": [
        {
          "output_type": "execute_result",
          "data": {
            "text/plain": [
              "RowNumber            0\n",
              "CustomerId           0\n",
              "Surname              0\n",
              "CreditScore          0\n",
              "Geography            0\n",
              "Gender               0\n",
              "Age                  0\n",
              "Tenure             909\n",
              "Balance              0\n",
              "NumOfProducts        0\n",
              "HasCrCard            0\n",
              "IsActiveMember       0\n",
              "EstimatedSalary      0\n",
              "Exited               0\n",
              "dtype: int64"
            ]
          },
          "metadata": {
            "tags": []
          },
          "execution_count": 58
        }
      ]
    },
    {
      "cell_type": "markdown",
      "metadata": {
        "id": "4RJPDWsanDto"
      },
      "source": [
        "Скорее всего пропущенные значения в столбце Tenure это отсутсвие неджижимости. \n",
        "\n",
        "Заполним нулями пропущенные значения."
      ]
    },
    {
      "cell_type": "code",
      "metadata": {
        "id": "eIT0rdk3nDtp"
      },
      "source": [
        "df['Tenure'] = df['Tenure'].fillna(0)"
      ],
      "execution_count": null,
      "outputs": []
    },
    {
      "cell_type": "code",
      "metadata": {
        "id": "vj_eXLwMnDtp",
        "outputId": "ae0b3271-a20f-4cb1-ef29-43ca8df3362c"
      },
      "source": [
        "df.info()"
      ],
      "execution_count": null,
      "outputs": [
        {
          "output_type": "stream",
          "text": [
            "<class 'pandas.core.frame.DataFrame'>\n",
            "RangeIndex: 10000 entries, 0 to 9999\n",
            "Data columns (total 14 columns):\n",
            "RowNumber          10000 non-null int64\n",
            "CustomerId         10000 non-null int64\n",
            "Surname            10000 non-null object\n",
            "CreditScore        10000 non-null int64\n",
            "Geography          10000 non-null object\n",
            "Gender             10000 non-null object\n",
            "Age                10000 non-null int64\n",
            "Tenure             10000 non-null float64\n",
            "Balance            10000 non-null float64\n",
            "NumOfProducts      10000 non-null int64\n",
            "HasCrCard          10000 non-null int64\n",
            "IsActiveMember     10000 non-null int64\n",
            "EstimatedSalary    10000 non-null float64\n",
            "Exited             10000 non-null int64\n",
            "dtypes: float64(3), int64(8), object(3)\n",
            "memory usage: 1.1+ MB\n"
          ],
          "name": "stdout"
        }
      ]
    },
    {
      "cell_type": "code",
      "metadata": {
        "id": "VczbQEu8nDtq",
        "outputId": "89234408-a1aa-4d67-8895-43bac18515b0"
      },
      "source": [
        "df['Geography'].value_counts()"
      ],
      "execution_count": null,
      "outputs": [
        {
          "output_type": "execute_result",
          "data": {
            "text/plain": [
              "France     5014\n",
              "Germany    2509\n",
              "Spain      2477\n",
              "Name: Geography, dtype: int64"
            ]
          },
          "metadata": {
            "tags": []
          },
          "execution_count": 61
        }
      ]
    },
    {
      "cell_type": "markdown",
      "metadata": {
        "id": "Py-FeOIGnDtq"
      },
      "source": [
        "**Изменим типы данных таким образом**\n",
        "+ RowNumber ✅\n",
        "+ CustomerId ✅\n",
        "+ Surname ✅\n",
        "+ CreditScore ✅\n",
        "+ Geography ➡️ Кодируем в 3 столбца: France Germany и Spain\n",
        "+ Gender ➡️  Кодируем в 2 столбца: Male Female\n",
        "+ Age ✅\n",
        "+ Tenure ➡️  int64\n",
        "+ Balance ✅\n",
        "+ NumOfProducts ✅\n",
        "+ HasCrCard ✅\n",
        "+ IsActiveMember ✅ \n",
        "+ EstimatedSalary ✅\n",
        "+ Exited ✅"
      ]
    },
    {
      "cell_type": "code",
      "metadata": {
        "scrolled": true,
        "id": "2BkrAJbKnDtq",
        "outputId": "710f3294-6136-42d4-efef-4a792e7c10d3"
      },
      "source": [
        "df['Tenure'] = df['Tenure'].astype(int)\n",
        "df_ohe = pd.get_dummies(df, columns=['Geography','Gender'])\n",
        "df_ohe.head(5)"
      ],
      "execution_count": null,
      "outputs": [
        {
          "output_type": "execute_result",
          "data": {
            "text/html": [
              "<div>\n",
              "<style scoped>\n",
              "    .dataframe tbody tr th:only-of-type {\n",
              "        vertical-align: middle;\n",
              "    }\n",
              "\n",
              "    .dataframe tbody tr th {\n",
              "        vertical-align: top;\n",
              "    }\n",
              "\n",
              "    .dataframe thead th {\n",
              "        text-align: right;\n",
              "    }\n",
              "</style>\n",
              "<table border=\"1\" class=\"dataframe\">\n",
              "  <thead>\n",
              "    <tr style=\"text-align: right;\">\n",
              "      <th></th>\n",
              "      <th>RowNumber</th>\n",
              "      <th>CustomerId</th>\n",
              "      <th>Surname</th>\n",
              "      <th>CreditScore</th>\n",
              "      <th>Age</th>\n",
              "      <th>Tenure</th>\n",
              "      <th>Balance</th>\n",
              "      <th>NumOfProducts</th>\n",
              "      <th>HasCrCard</th>\n",
              "      <th>IsActiveMember</th>\n",
              "      <th>EstimatedSalary</th>\n",
              "      <th>Exited</th>\n",
              "      <th>Geography_France</th>\n",
              "      <th>Geography_Germany</th>\n",
              "      <th>Geography_Spain</th>\n",
              "      <th>Gender_Female</th>\n",
              "      <th>Gender_Male</th>\n",
              "    </tr>\n",
              "  </thead>\n",
              "  <tbody>\n",
              "    <tr>\n",
              "      <td>0</td>\n",
              "      <td>1</td>\n",
              "      <td>15634602</td>\n",
              "      <td>Hargrave</td>\n",
              "      <td>619</td>\n",
              "      <td>42</td>\n",
              "      <td>2</td>\n",
              "      <td>0.00</td>\n",
              "      <td>1</td>\n",
              "      <td>1</td>\n",
              "      <td>1</td>\n",
              "      <td>101348.88</td>\n",
              "      <td>1</td>\n",
              "      <td>1</td>\n",
              "      <td>0</td>\n",
              "      <td>0</td>\n",
              "      <td>1</td>\n",
              "      <td>0</td>\n",
              "    </tr>\n",
              "    <tr>\n",
              "      <td>1</td>\n",
              "      <td>2</td>\n",
              "      <td>15647311</td>\n",
              "      <td>Hill</td>\n",
              "      <td>608</td>\n",
              "      <td>41</td>\n",
              "      <td>1</td>\n",
              "      <td>83807.86</td>\n",
              "      <td>1</td>\n",
              "      <td>0</td>\n",
              "      <td>1</td>\n",
              "      <td>112542.58</td>\n",
              "      <td>0</td>\n",
              "      <td>0</td>\n",
              "      <td>0</td>\n",
              "      <td>1</td>\n",
              "      <td>1</td>\n",
              "      <td>0</td>\n",
              "    </tr>\n",
              "    <tr>\n",
              "      <td>2</td>\n",
              "      <td>3</td>\n",
              "      <td>15619304</td>\n",
              "      <td>Onio</td>\n",
              "      <td>502</td>\n",
              "      <td>42</td>\n",
              "      <td>8</td>\n",
              "      <td>159660.80</td>\n",
              "      <td>3</td>\n",
              "      <td>1</td>\n",
              "      <td>0</td>\n",
              "      <td>113931.57</td>\n",
              "      <td>1</td>\n",
              "      <td>1</td>\n",
              "      <td>0</td>\n",
              "      <td>0</td>\n",
              "      <td>1</td>\n",
              "      <td>0</td>\n",
              "    </tr>\n",
              "    <tr>\n",
              "      <td>3</td>\n",
              "      <td>4</td>\n",
              "      <td>15701354</td>\n",
              "      <td>Boni</td>\n",
              "      <td>699</td>\n",
              "      <td>39</td>\n",
              "      <td>1</td>\n",
              "      <td>0.00</td>\n",
              "      <td>2</td>\n",
              "      <td>0</td>\n",
              "      <td>0</td>\n",
              "      <td>93826.63</td>\n",
              "      <td>0</td>\n",
              "      <td>1</td>\n",
              "      <td>0</td>\n",
              "      <td>0</td>\n",
              "      <td>1</td>\n",
              "      <td>0</td>\n",
              "    </tr>\n",
              "    <tr>\n",
              "      <td>4</td>\n",
              "      <td>5</td>\n",
              "      <td>15737888</td>\n",
              "      <td>Mitchell</td>\n",
              "      <td>850</td>\n",
              "      <td>43</td>\n",
              "      <td>2</td>\n",
              "      <td>125510.82</td>\n",
              "      <td>1</td>\n",
              "      <td>1</td>\n",
              "      <td>1</td>\n",
              "      <td>79084.10</td>\n",
              "      <td>0</td>\n",
              "      <td>0</td>\n",
              "      <td>0</td>\n",
              "      <td>1</td>\n",
              "      <td>1</td>\n",
              "      <td>0</td>\n",
              "    </tr>\n",
              "  </tbody>\n",
              "</table>\n",
              "</div>"
            ],
            "text/plain": [
              "   RowNumber  CustomerId   Surname  CreditScore  Age  Tenure    Balance  \\\n",
              "0          1    15634602  Hargrave          619   42       2       0.00   \n",
              "1          2    15647311      Hill          608   41       1   83807.86   \n",
              "2          3    15619304      Onio          502   42       8  159660.80   \n",
              "3          4    15701354      Boni          699   39       1       0.00   \n",
              "4          5    15737888  Mitchell          850   43       2  125510.82   \n",
              "\n",
              "   NumOfProducts  HasCrCard  IsActiveMember  EstimatedSalary  Exited  \\\n",
              "0              1          1               1        101348.88       1   \n",
              "1              1          0               1        112542.58       0   \n",
              "2              3          1               0        113931.57       1   \n",
              "3              2          0               0         93826.63       0   \n",
              "4              1          1               1         79084.10       0   \n",
              "\n",
              "   Geography_France  Geography_Germany  Geography_Spain  Gender_Female  \\\n",
              "0                 1                  0                0              1   \n",
              "1                 0                  0                1              1   \n",
              "2                 1                  0                0              1   \n",
              "3                 1                  0                0              1   \n",
              "4                 0                  0                1              1   \n",
              "\n",
              "   Gender_Male  \n",
              "0            0  \n",
              "1            0  \n",
              "2            0  \n",
              "3            0  \n",
              "4            0  "
            ]
          },
          "metadata": {
            "tags": []
          },
          "execution_count": 62
        }
      ]
    },
    {
      "cell_type": "code",
      "metadata": {
        "id": "YtoTZw_PnDtr",
        "outputId": "de2b4271-2203-4d0c-aaa4-a2b6e0b9847c"
      },
      "source": [
        "target = df_ohe['Exited']\n",
        "features = df_ohe.drop(['Exited', 'Surname', 'CustomerId'], axis=1)\n",
        "print(target.shape, features.shape)"
      ],
      "execution_count": null,
      "outputs": [
        {
          "output_type": "stream",
          "text": [
            "(10000,) (10000, 14)\n"
          ],
          "name": "stdout"
        }
      ]
    },
    {
      "cell_type": "code",
      "metadata": {
        "id": "VhICO90onDtr"
      },
      "source": [
        "features_train, features_valid, target_train, target_valid = train_test_split(\n",
        "    features, target , test_size=0.20, random_state=12345, stratify = target)\n",
        "features_train, features_test, target_train, target_test = train_test_split(\n",
        "    features_train, target_train , test_size=0.25, random_state=12345, stratify = target_train)"
      ],
      "execution_count": null,
      "outputs": []
    },
    {
      "cell_type": "code",
      "metadata": {
        "id": "R0eIR9zpnDts",
        "outputId": "66ec1df9-8cda-4c96-a25d-9b45f42872d1"
      },
      "source": [
        "print(features_train.shape, target_train.shape)\n",
        "print(features_test.shape, target_test.shape)\n",
        "print(features_valid.shape, target_valid.shape)"
      ],
      "execution_count": null,
      "outputs": [
        {
          "output_type": "stream",
          "text": [
            "(6000, 14) (6000,)\n",
            "(2000, 14) (2000,)\n",
            "(2000, 14) (2000,)\n"
          ],
          "name": "stdout"
        }
      ]
    },
    {
      "cell_type": "markdown",
      "metadata": {
        "id": "0nKzgEHqnDts"
      },
      "source": [
        "# 2. Исследование задачи <a id=\"step2\"></a>"
      ]
    },
    {
      "cell_type": "code",
      "metadata": {
        "id": "xzY1ymUsnDts",
        "outputId": "672ff4ae-bb07-4c41-c938-c30f67b7ae50"
      },
      "source": [
        "df['Exited'].value_counts()"
      ],
      "execution_count": null,
      "outputs": [
        {
          "output_type": "execute_result",
          "data": {
            "text/plain": [
              "0    7963\n",
              "1    2037\n",
              "Name: Exited, dtype: int64"
            ]
          },
          "metadata": {
            "tags": []
          },
          "execution_count": 66
        }
      ]
    },
    {
      "cell_type": "markdown",
      "metadata": {
        "id": "rIDQ5fITnDtt"
      },
      "source": [
        "Оставшихся клиентов значительно больше чем ушедших (соотношение 1:4).\n",
        "\n",
        "Дисбаланс классов очевиден. Сначала исследуем задачу без учета дисбаланса."
      ]
    },
    {
      "cell_type": "code",
      "metadata": {
        "id": "JGaGE8DYnDtt",
        "outputId": "018c3771-4ca9-42d7-9821-a097e75a3a72"
      },
      "source": [
        "best_model = None\n",
        "best_result = 0\n",
        "est1, max_d = 0,0\n",
        "for est in range(5, 30):\n",
        "    for j in range(8,50):\n",
        "        model = RandomForestClassifier(random_state=12345, n_estimators=est, max_depth = j)\n",
        "        model.fit(features_train, target_train) \n",
        "        result = f1_score(target_valid, model.predict(features_valid))\n",
        "        if result > best_result:\n",
        "            best_model = model\n",
        "            best_result = result\n",
        "            est1,max_d = est, j\n",
        "    print(\"F1-score:\",best_result,\"  Кол-во деревьев:\",est1, \"  Макс. грубина\",max_d)\n",
        "print(\"F1-score наилучшей модели случайного леса на валидационной выборке:\", best_result)\n",
        "print('Кол-во деревьев:', est1)\n",
        "print('Максимальная глубина:',max_d)"
      ],
      "execution_count": null,
      "outputs": [
        {
          "output_type": "stream",
          "text": [
            "F1-score: 0.5875706214689266   Кол-во деревьев: 5   Макс. грубина 18\n",
            "F1-score: 0.5875706214689266   Кол-во деревьев: 5   Макс. грубина 18\n",
            "F1-score: 0.5875706214689266   Кол-во деревьев: 5   Макс. грубина 18\n",
            "F1-score: 0.5875706214689266   Кол-во деревьев: 5   Макс. грубина 18\n",
            "F1-score: 0.5875706214689266   Кол-во деревьев: 5   Макс. грубина 18\n",
            "F1-score: 0.5875706214689266   Кол-во деревьев: 5   Макс. грубина 18\n",
            "F1-score: 0.5875706214689266   Кол-во деревьев: 5   Макс. грубина 18\n",
            "F1-score: 0.5875706214689266   Кол-во деревьев: 5   Макс. грубина 18\n",
            "F1-score: 0.5875706214689266   Кол-во деревьев: 5   Макс. грубина 18\n",
            "F1-score: 0.5875706214689266   Кол-во деревьев: 5   Макс. грубина 18\n",
            "F1-score: 0.5875706214689266   Кол-во деревьев: 5   Макс. грубина 18\n",
            "F1-score: 0.5875706214689266   Кол-во деревьев: 5   Макс. грубина 18\n",
            "F1-score: 0.5875706214689266   Кол-во деревьев: 5   Макс. грубина 18\n",
            "F1-score: 0.5875706214689266   Кол-во деревьев: 5   Макс. грубина 18\n",
            "F1-score: 0.5875706214689266   Кол-во деревьев: 5   Макс. грубина 18\n",
            "F1-score: 0.5875706214689266   Кол-во деревьев: 5   Макс. грубина 18\n",
            "F1-score: 0.5875706214689266   Кол-во деревьев: 5   Макс. грубина 18\n",
            "F1-score: 0.5875706214689266   Кол-во деревьев: 5   Макс. грубина 18\n",
            "F1-score: 0.5875706214689266   Кол-во деревьев: 5   Макс. грубина 18\n",
            "F1-score: 0.5875706214689266   Кол-во деревьев: 5   Макс. грубина 18\n",
            "F1-score: 0.5875706214689266   Кол-во деревьев: 5   Макс. грубина 18\n",
            "F1-score: 0.5875706214689266   Кол-во деревьев: 5   Макс. грубина 18\n",
            "F1-score: 0.5875706214689266   Кол-во деревьев: 5   Макс. грубина 18\n",
            "F1-score: 0.5875706214689266   Кол-во деревьев: 5   Макс. грубина 18\n",
            "F1-score: 0.5875706214689266   Кол-во деревьев: 5   Макс. грубина 18\n",
            "F1-score наилучшей модели случайного леса на валидационной выборке: 0.5875706214689266\n",
            "Кол-во деревьев: 5\n",
            "Максимальная глубина: 18\n"
          ],
          "name": "stdout"
        }
      ]
    },
    {
      "cell_type": "markdown",
      "metadata": {
        "id": "3H8fqdAnnDtt"
      },
      "source": [
        "Максимальное значение f1 меры без учета дисбаланса классов: 0.5875\n",
        "    \n",
        "Этого недостаточно чтобы считать исследование успешным. Проведем ребалансировку классов."
      ]
    },
    {
      "cell_type": "code",
      "metadata": {
        "id": "a_UYwImfnDtu",
        "outputId": "222bdfb1-eaad-413d-95c4-877f30d7a9ad"
      },
      "source": [
        "auc_roc = roc_auc_score(target_valid, best_model.predict(features_valid))\n",
        "print(auc_roc)"
      ],
      "execution_count": null,
      "outputs": [
        {
          "output_type": "stream",
          "text": [
            "0.7263380483719467\n"
          ],
          "name": "stdout"
        }
      ]
    },
    {
      "cell_type": "markdown",
      "metadata": {
        "id": "EoqYvIm2nDtu"
      },
      "source": [
        "# 3. Борьба с дисбалансом <a id=\"step3\"></a>"
      ]
    },
    {
      "cell_type": "markdown",
      "metadata": {
        "id": "F8v3oMC8nDtu"
      },
      "source": [
        "Для начала попробуем просто сделать классы салансированными при помощи задания весов."
      ]
    },
    {
      "cell_type": "code",
      "metadata": {
        "id": "FmAVA_VFnDtu",
        "outputId": "a3b6ef44-2aa2-4330-ca6f-fd791db5d75a"
      },
      "source": [
        "best_model_2 = None\n",
        "best_result_2 = 0\n",
        "est2, max_d_2 = 0,0\n",
        "for est in range(5, 30):\n",
        "    for j in range(8,50):\n",
        "        model = RandomForestClassifier(random_state=12345, n_estimators=est, max_depth = j,class_weight='balanced')\n",
        "        model.fit(features_train, target_train) \n",
        "        result = f1_score(target_valid, model.predict(features_valid))\n",
        "        if result > best_result_2:\n",
        "            best_model_2 = model\n",
        "            best_result_2 = result\n",
        "            est2,max_d_2 = est, j\n",
        "    print(\"F1-score:\",best_result_2,\"  Кол-во деревьев:\",est2, \"  Макс. грубина\",max_d_2)\n",
        "print(\"F1-score наилучшей модели случайного леса на валидационной выборке:\", best_result_2)\n",
        "print('Кол-во деревьев:', est2)\n",
        "print('Максимальная глубина:',max_d_2)"
      ],
      "execution_count": null,
      "outputs": [
        {
          "output_type": "stream",
          "text": [
            "F1-score: 0.5941240478781284   Кол-во деревьев: 5   Макс. грубина 8\n",
            "F1-score: 0.5966480446927374   Кол-во деревьев: 6   Макс. грубина 9\n",
            "F1-score: 0.6191489361702127   Кол-во деревьев: 7   Макс. грубина 8\n",
            "F1-score: 0.6191489361702127   Кол-во деревьев: 7   Макс. грубина 8\n",
            "F1-score: 0.6191489361702127   Кол-во деревьев: 7   Макс. грубина 8\n",
            "F1-score: 0.6191489361702127   Кол-во деревьев: 7   Макс. грубина 8\n",
            "F1-score: 0.6255506607929515   Кол-во деревьев: 11   Макс. грубина 9\n",
            "F1-score: 0.6308724832214764   Кол-во деревьев: 12   Макс. грубина 9\n",
            "F1-score: 0.6308724832214764   Кол-во деревьев: 12   Макс. грубина 9\n",
            "F1-score: 0.6344206974128234   Кол-во деревьев: 14   Макс. грубина 9\n",
            "F1-score: 0.6359550561797752   Кол-во деревьев: 15   Макс. грубина 9\n",
            "F1-score: 0.6380090497737556   Кол-во деревьев: 16   Макс. грубина 9\n",
            "F1-score: 0.6382022471910113   Кол-во деревьев: 17   Макс. грубина 9\n",
            "F1-score: 0.6382022471910113   Кол-во деревьев: 17   Макс. грубина 9\n",
            "F1-score: 0.6382022471910113   Кол-во деревьев: 17   Макс. грубина 9\n",
            "F1-score: 0.6382022471910113   Кол-во деревьев: 17   Макс. грубина 9\n",
            "F1-score: 0.6382022471910113   Кол-во деревьев: 17   Макс. грубина 9\n",
            "F1-score: 0.6382022471910113   Кол-во деревьев: 17   Макс. грубина 9\n",
            "F1-score: 0.6382022471910113   Кол-во деревьев: 17   Макс. грубина 9\n",
            "F1-score: 0.6382022471910113   Кол-во деревьев: 17   Макс. грубина 9\n",
            "F1-score: 0.6382022471910113   Кол-во деревьев: 17   Макс. грубина 9\n",
            "F1-score: 0.6393244873341375   Кол-во деревьев: 26   Макс. грубина 10\n",
            "F1-score: 0.6402877697841727   Кол-во деревьев: 27   Макс. грубина 10\n",
            "F1-score: 0.6402877697841727   Кол-во деревьев: 27   Макс. грубина 10\n",
            "F1-score: 0.6402877697841727   Кол-во деревьев: 27   Макс. грубина 10\n",
            "F1-score наилучшей модели случайного леса на валидационной выборке: 0.6402877697841727\n",
            "Кол-во деревьев: 27\n",
            "Максимальная глубина: 10\n"
          ],
          "name": "stdout"
        }
      ]
    },
    {
      "cell_type": "markdown",
      "metadata": {
        "id": "6YMkeI3FnDtv"
      },
      "source": [
        "Максимальное значение f1-меры с учетом дисбаланса классов: 0.64\n",
        "    \n",
        "Результаты допустимые но стоит попробовать другие методы."
      ]
    },
    {
      "cell_type": "code",
      "metadata": {
        "id": "uBeB_eQ2nDtv",
        "outputId": "da194dd7-0fe9-46eb-e714-7c94cb73db80"
      },
      "source": [
        "auc_roc = roc_auc_score(target_valid, best_model_2.predict(features_valid))\n",
        "print(auc_roc)"
      ],
      "execution_count": null,
      "outputs": [
        {
          "output_type": "stream",
          "text": [
            "0.7777901167731677\n"
          ],
          "name": "stdout"
        }
      ]
    },
    {
      "cell_type": "markdown",
      "metadata": {
        "id": "owonasY5nDtv"
      },
      "source": [
        "Площадь под графиком ROC увеличилась при увеличении значения f1-меры."
      ]
    },
    {
      "cell_type": "markdown",
      "metadata": {
        "id": "tb9mGamanDtv"
      },
      "source": [
        "Для найденой лучшей модели выберем другой порог классификации."
      ]
    },
    {
      "cell_type": "code",
      "metadata": {
        "id": "fV6TZhJHnDtv",
        "outputId": "19700585-bf36-4243-cb03-4a513d85d218"
      },
      "source": [
        "probabilities_valid = best_model_2.predict_proba(features_valid)\n",
        "probabilities_one_valid = probabilities_valid[:, 1]\n",
        "for threshold in np.arange(0.2, 0.8, 0.02):\n",
        "    predicted_valid = probabilities_one_valid > threshold \n",
        "    print(\"Порог = {:.2f} | F1_score = {:.6f}\".format(\n",
        "        threshold, f1_score(target_valid, predicted_valid)))"
      ],
      "execution_count": null,
      "outputs": [
        {
          "output_type": "stream",
          "text": [
            "Порог = 0.20 | F1_score = 0.454762\n",
            "Порог = 0.22 | F1_score = 0.470960\n",
            "Порог = 0.24 | F1_score = 0.487060\n",
            "Порог = 0.26 | F1_score = 0.506294\n",
            "Порог = 0.28 | F1_score = 0.520349\n",
            "Порог = 0.30 | F1_score = 0.546863\n",
            "Порог = 0.32 | F1_score = 0.562602\n",
            "Порог = 0.34 | F1_score = 0.577740\n",
            "Порог = 0.36 | F1_score = 0.597518\n",
            "Порог = 0.38 | F1_score = 0.611524\n",
            "Порог = 0.40 | F1_score = 0.606414\n",
            "Порог = 0.42 | F1_score = 0.614913\n",
            "Порог = 0.44 | F1_score = 0.626327\n",
            "Порог = 0.46 | F1_score = 0.637969\n",
            "Порог = 0.48 | F1_score = 0.639908\n",
            "Порог = 0.50 | F1_score = 0.640288\n",
            "Порог = 0.52 | F1_score = 0.626238\n",
            "Порог = 0.54 | F1_score = 0.607692\n",
            "Порог = 0.56 | F1_score = 0.599201\n",
            "Порог = 0.58 | F1_score = 0.584958\n",
            "Порог = 0.60 | F1_score = 0.560694\n",
            "Порог = 0.62 | F1_score = 0.561194\n",
            "Порог = 0.64 | F1_score = 0.537867\n",
            "Порог = 0.66 | F1_score = 0.520900\n",
            "Порог = 0.68 | F1_score = 0.500000\n",
            "Порог = 0.70 | F1_score = 0.476684\n",
            "Порог = 0.72 | F1_score = 0.439640\n",
            "Порог = 0.74 | F1_score = 0.416357\n",
            "Порог = 0.76 | F1_score = 0.381503\n",
            "Порог = 0.78 | F1_score = 0.347305\n",
            "Порог = 0.80 | F1_score = 0.304527\n"
          ],
          "name": "stdout"
        }
      ]
    },
    {
      "cell_type": "markdown",
      "metadata": {
        "id": "V178R2ZAnDtw"
      },
      "source": [
        "Изменение порога плодов не дало, лучшая f1-мера при пороге 0.5 \n",
        "\n",
        "Попробуем еще один метод борьбы с дисбалансом. Попробуем увеличить выборку."
      ]
    },
    {
      "cell_type": "code",
      "metadata": {
        "id": "Z70qzSpxnDtw"
      },
      "source": [
        "def upsample(features, target, repeat):\n",
        "    features_zeros = features[target == 0]\n",
        "    features_ones = features[target == 1]\n",
        "    target_zeros = target[target == 0]\n",
        "    target_ones = target[target == 1]\n",
        "\n",
        "    features_upsampled = pd.concat([features_zeros] + [features_ones] * repeat)\n",
        "    target_upsampled = pd.concat([target_zeros] + [target_ones] * repeat)\n",
        "    \n",
        "    features_upsampled, target_upsampled = shuffle(\n",
        "        features_upsampled, target_upsampled, random_state=12345)\n",
        "    \n",
        "    return features_upsampled, target_upsampled"
      ],
      "execution_count": null,
      "outputs": []
    },
    {
      "cell_type": "code",
      "metadata": {
        "id": "RQ5kD7IInDtw",
        "outputId": "d37eba75-b46e-46e2-87c1-32f8cb40940c"
      },
      "source": [
        "features_upsampled, target_upsampled = upsample(features_train, target_train, 4)\n",
        "print(features_upsampled.shape, target_upsampled.shape)"
      ],
      "execution_count": null,
      "outputs": [
        {
          "output_type": "stream",
          "text": [
            "(9669, 14) (9669,)\n"
          ],
          "name": "stdout"
        }
      ]
    },
    {
      "cell_type": "code",
      "metadata": {
        "id": "ULGp3xUInDtx",
        "outputId": "9ae5970f-4973-4d07-9083-657118df7ca8"
      },
      "source": [
        "best_model_3 = None\n",
        "best_result_3 = 0\n",
        "est3, max_d_3 = 0,0\n",
        "for est in range(5, 30):\n",
        "    for j in range(8,30):\n",
        "        model = RandomForestClassifier(random_state=12345, n_estimators=est, max_depth = j)\n",
        "        model.fit(features_upsampled, target_upsampled) \n",
        "        result = f1_score(target_valid, model.predict(features_valid))\n",
        "        if result > best_result_3:\n",
        "            best_model_3 = model\n",
        "            best_result_3 = result\n",
        "            est3,max_d_3 = est, j\n",
        "    print(\"F1-score:\",best_result_3,\"  Кол-во деревьев:\",est3, \"  Макс. грубина\",max_d_3)\n",
        "print(\"F1-score наилучшей модели случайного леса на валидационной выборке:\", best_result_3)\n",
        "print('Кол-во деревьев:', est3)\n",
        "print('Максимальная глубина:',max_d_3)"
      ],
      "execution_count": null,
      "outputs": [
        {
          "output_type": "stream",
          "text": [
            "F1-score: 0.5826612903225807   Кол-во деревьев: 5   Макс. грубина 8\n",
            "F1-score: 0.5845845845845845   Кол-во деревьев: 6   Макс. грубина 8\n",
            "F1-score: 0.5900783289817233   Кол-во деревьев: 7   Макс. грубина 20\n",
            "F1-score: 0.6024096385542169   Кол-во деревьев: 8   Макс. грубина 8\n",
            "F1-score: 0.6055045871559632   Кол-во деревьев: 9   Макс. грубина 21\n",
            "F1-score: 0.6075949367088607   Кол-во деревьев: 10   Макс. грубина 9\n",
            "F1-score: 0.6130346232179226   Кол-во деревьев: 11   Макс. грубина 8\n",
            "F1-score: 0.6137931034482759   Кол-во деревьев: 12   Макс. грубина 12\n",
            "F1-score: 0.6202090592334495   Кол-во деревьев: 13   Макс. грубина 12\n",
            "F1-score: 0.621676891615542   Кол-во деревьев: 14   Макс. грубина 8\n",
            "F1-score: 0.6258823529411764   Кол-во деревьев: 15   Макс. грубина 12\n",
            "F1-score: 0.6258823529411764   Кол-во деревьев: 15   Макс. грубина 12\n",
            "F1-score: 0.6383981154299176   Кол-во деревьев: 17   Макс. грубина 12\n",
            "F1-score: 0.6383981154299176   Кол-во деревьев: 17   Макс. грубина 12\n",
            "F1-score: 0.6383981154299176   Кол-во деревьев: 17   Макс. грубина 12\n",
            "F1-score: 0.6383981154299176   Кол-во деревьев: 17   Макс. грубина 12\n",
            "F1-score: 0.6383981154299176   Кол-во деревьев: 17   Макс. грубина 12\n",
            "F1-score: 0.6383981154299176   Кол-во деревьев: 17   Макс. грубина 12\n",
            "F1-score: 0.6383981154299176   Кол-во деревьев: 17   Макс. грубина 12\n",
            "F1-score: 0.6383981154299176   Кол-во деревьев: 17   Макс. грубина 12\n",
            "F1-score: 0.6383981154299176   Кол-во деревьев: 17   Макс. грубина 12\n",
            "F1-score: 0.6383981154299176   Кол-во деревьев: 17   Макс. грубина 12\n",
            "F1-score: 0.6383981154299176   Кол-во деревьев: 17   Макс. грубина 12\n",
            "F1-score: 0.6383981154299176   Кол-во деревьев: 17   Макс. грубина 12\n",
            "F1-score: 0.6383981154299176   Кол-во деревьев: 17   Макс. грубина 12\n",
            "F1-score наилучшей модели случайного леса на валидационной выборке: 0.6383981154299176\n",
            "Кол-во деревьев: 17\n",
            "Максимальная глубина: 12\n"
          ],
          "name": "stdout"
        }
      ]
    },
    {
      "cell_type": "markdown",
      "metadata": {
        "id": "rm0kLUwSnDty"
      },
      "source": [
        "Увеличение выборки дало ~0.64 значения f1-меры. Оставим модель полученную при добавлении весов как лучшую."
      ]
    },
    {
      "cell_type": "code",
      "metadata": {
        "id": "x-MARD3tnDty",
        "outputId": "316069cc-63bd-47e9-ca0f-ec81c282ad20"
      },
      "source": [
        "auc_roc = roc_auc_score(target_valid, best_model_3.predict(features_valid))\n",
        "print(auc_roc)"
      ],
      "execution_count": null,
      "outputs": [
        {
          "output_type": "stream",
          "text": [
            "0.7792515165396521\n"
          ],
          "name": "stdout"
        }
      ]
    },
    {
      "cell_type": "markdown",
      "metadata": {
        "id": "Rekqp48gnDty"
      },
      "source": [
        "Значение площади практически то же самое что и в предыдущей модели."
      ]
    },
    {
      "cell_type": "markdown",
      "metadata": {
        "id": "G5tiz6I4nDtz"
      },
      "source": [
        "# 4. Тестирование модели <a id=\"step4\"></a>"
      ]
    },
    {
      "cell_type": "code",
      "metadata": {
        "id": "ChF87zRSnDtz",
        "outputId": "e65c8c39-fb48-4e42-f2e5-3a4339a7f5ed"
      },
      "source": [
        "final_predict = best_model_2.predict(features_test)\n",
        "print(\"Значение f1-меры для лучшей полученной модели на тестовой выборке:\", f1_score(target_test, final_predict))"
      ],
      "execution_count": null,
      "outputs": [
        {
          "output_type": "stream",
          "text": [
            "Значение f1-меры для лучшей полученной модели на тестовой выборке: 0.6239813736903376\n"
          ],
          "name": "stdout"
        }
      ]
    },
    {
      "cell_type": "markdown",
      "metadata": {
        "id": "0PZQ3897nDtz"
      },
      "source": [
        "# Чек-лист готовности проекта"
      ]
    },
    {
      "cell_type": "markdown",
      "metadata": {
        "id": "-ddammAznDt0"
      },
      "source": [
        "\n",
        "- [x]  Выполнен шаг 1: данные подготовлены\n",
        "- [x]  Выполнен шаг 2: задача исследована\n",
        "    - [x]  Исследован баланс классов\n",
        "    - [x]  Изучены модели без учёта дисбаланса\n",
        "    - [x]  Написаны выводы по результатам исследования\n",
        "- [x]  Выполнен шаг 3: учтён дисбаланс\n",
        "    - [x]  Применено несколько способов борьбы с дисбалансом\n",
        "    - [x]  Написаны выводы по результатам исследования\n",
        "- [x]  Выполнен шаг 4: проведено тестирование\n",
        "- [x]  Удалось достичь *F1*-меры не менее 0.59\n",
        "- [x]  Исследована метрика *AUC-ROC*"
      ]
    }
  ]
}
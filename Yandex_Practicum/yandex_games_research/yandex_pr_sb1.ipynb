{
  "nbformat": 4,
  "nbformat_minor": 0,
  "metadata": {
    "kernelspec": {
      "display_name": "Python 3",
      "language": "python",
      "name": "python3"
    },
    "language_info": {
      "codemirror_mode": {
        "name": "ipython",
        "version": 3
      },
      "file_extension": ".py",
      "mimetype": "text/x-python",
      "name": "python",
      "nbconvert_exporter": "python",
      "pygments_lexer": "ipython3",
      "version": "3.7.6"
    },
    "colab": {
      "name": "yandex_pr_sb1.ipynb",
      "provenance": [],
      "toc_visible": true,
      "include_colab_link": true
    }
  },
  "cells": [
    {
      "cell_type": "markdown",
      "metadata": {
        "id": "view-in-github",
        "colab_type": "text"
      },
      "source": [
        "<a href=\"https://colab.research.google.com/github/AmayFox/DataAnalysis/blob/main/yandex_pr_sb1.ipynb\" target=\"_parent\"><img src=\"https://colab.research.google.com/assets/colab-badge.svg\" alt=\"Open In Colab\"/></a>"
      ]
    },
    {
      "cell_type": "markdown",
      "metadata": {
        "id": "2sSMrB8ziUUS"
      },
      "source": [
        "# Сборный проект 1\n",
        "\n",
        "<div class=\"alert alert-block alert-info\">\n",
        "    \n",
        "<h2> Описание проекта </h2>\n",
        "\n",
        "Вы работаете в интернет-магазине «Стримчик», который продаёт по всему миру компьютерные игры. Из открытых источников доступны исторические данные о продажах игр, оценки пользователей и экспертов, жанры и платформы (например, Xbox или PlayStation). Вам нужно выявить определяющие успешность игры закономерности. Это позволит сделать ставку на потенциально популярный продукт и спланировать рекламные кампании.\n",
        "Перед вами данные до 2016 года. Представим, что сейчас декабрь 2016 г., и вы планируете кампанию на 2017-й. Нужно отработать принцип работы с данными. Неважно, прогнозируете ли вы продажи на 2017 год по данным 2016-го или же 2027-й — по данным 2026 года.\n",
        "В наборе данных попадается аббревиатура ESRB (Entertainment Software Rating Board) — это ассоциация, определяющая возрастной рейтинг компьютерных игр. ESRB оценивает игровой контент и присваивает ему подходящую возрастную категорию, например, «Для взрослых», «Для детей младшего возраста» или «Для подростков».\n",
        "\n",
        "</div>"
      ]
    },
    {
      "cell_type": "markdown",
      "metadata": {
        "id": "JVCEkgC6iUUT"
      },
      "source": [
        "# Описание данных\n",
        "+ Name — название игры\n",
        "+ Platform — платформа\n",
        "+ Year_of_Release — год выпуска\n",
        "+ Genre — жанр игры\n",
        "+ NA_sales — продажи в Северной Америке (миллионы проданных копий)\n",
        "+ EU_sales — продажи в Европе (миллионы проданных копий)\n",
        "+ JP_sales — продажи в Японии (миллионы проданных копий)\n",
        "+ Other_sales — продажи в других странах (миллионы проданных копий)\n",
        "+ Critic_Score — оценка критиков (максимум 100)\n",
        "+ User_Score — оценка пользователей (максимум 10)\n",
        "+ Rating — рейтинг от организации ESRB (англ. Entertainment Software Rating Board). Эта ассоциация определяет рейтинг компьютерных игр и присваивает им подходящую возрастную категорию.\n",
        "+ Данные за 2016 год могут быть неполными."
      ]
    },
    {
      "cell_type": "markdown",
      "metadata": {
        "id": "I5Rm-AImiUUT"
      },
      "source": [
        "## План исследования\n",
        "\n",
        "1. [Шаг 1. Изучение общей информации](#step1)\n",
        "\n",
        "\n",
        "2. [Шаг 2. Предобработка данных](#step2)\n",
        "\n",
        "\n",
        "3. [Шаг 3. Проведите исследовательский анализ данных](#step3)\n",
        "\n",
        "\n",
        "4. [Шаг 4. Составьте портрет пользователя каждого региона](#step4)\n",
        "\n",
        "\n",
        "5. [Шаг 5. Проверьте гипотезы](#step5)\n",
        "\n",
        "\n",
        "6. [Шаг 6. Общий вывод](#step6)"
      ]
    },
    {
      "cell_type": "markdown",
      "metadata": {
        "id": "W5YGipzYiUUU"
      },
      "source": [
        "# Шаг 1. Изучение общей информации <a id=\"step1\"></a>"
      ]
    },
    {
      "cell_type": "code",
      "metadata": {
        "id": "UmDau3hdiUUU"
      },
      "source": [
        "import pandas as pd\n",
        "import seaborn as sns\n",
        "import matplotlib.pyplot as plt\n",
        "import numpy as np\n",
        "from scipy import stats as st\n",
        "import math\n",
        "import warnings"
      ],
      "execution_count": null,
      "outputs": []
    },
    {
      "cell_type": "code",
      "metadata": {
        "id": "XLpoAgWJiUUV"
      },
      "source": [
        "warnings.filterwarnings('ignore')"
      ],
      "execution_count": null,
      "outputs": []
    },
    {
      "cell_type": "code",
      "metadata": {
        "scrolled": true,
        "id": "EdNd5907iUUV",
        "outputId": "4c71581f-7aa1-4043-bf37-45ae26100664"
      },
      "source": [
        "df = pd.read_csv('/datasets/games.csv')\n",
        "df.head(7)"
      ],
      "execution_count": null,
      "outputs": [
        {
          "output_type": "execute_result",
          "data": {
            "text/html": [
              "<div>\n",
              "<style scoped>\n",
              "    .dataframe tbody tr th:only-of-type {\n",
              "        vertical-align: middle;\n",
              "    }\n",
              "\n",
              "    .dataframe tbody tr th {\n",
              "        vertical-align: top;\n",
              "    }\n",
              "\n",
              "    .dataframe thead th {\n",
              "        text-align: right;\n",
              "    }\n",
              "</style>\n",
              "<table border=\"1\" class=\"dataframe\">\n",
              "  <thead>\n",
              "    <tr style=\"text-align: right;\">\n",
              "      <th></th>\n",
              "      <th>Name</th>\n",
              "      <th>Platform</th>\n",
              "      <th>Year_of_Release</th>\n",
              "      <th>Genre</th>\n",
              "      <th>NA_sales</th>\n",
              "      <th>EU_sales</th>\n",
              "      <th>JP_sales</th>\n",
              "      <th>Other_sales</th>\n",
              "      <th>Critic_Score</th>\n",
              "      <th>User_Score</th>\n",
              "      <th>Rating</th>\n",
              "    </tr>\n",
              "  </thead>\n",
              "  <tbody>\n",
              "    <tr>\n",
              "      <td>0</td>\n",
              "      <td>Wii Sports</td>\n",
              "      <td>Wii</td>\n",
              "      <td>2006.0</td>\n",
              "      <td>Sports</td>\n",
              "      <td>41.36</td>\n",
              "      <td>28.96</td>\n",
              "      <td>3.77</td>\n",
              "      <td>8.45</td>\n",
              "      <td>76.0</td>\n",
              "      <td>8</td>\n",
              "      <td>E</td>\n",
              "    </tr>\n",
              "    <tr>\n",
              "      <td>1</td>\n",
              "      <td>Super Mario Bros.</td>\n",
              "      <td>NES</td>\n",
              "      <td>1985.0</td>\n",
              "      <td>Platform</td>\n",
              "      <td>29.08</td>\n",
              "      <td>3.58</td>\n",
              "      <td>6.81</td>\n",
              "      <td>0.77</td>\n",
              "      <td>NaN</td>\n",
              "      <td>NaN</td>\n",
              "      <td>NaN</td>\n",
              "    </tr>\n",
              "    <tr>\n",
              "      <td>2</td>\n",
              "      <td>Mario Kart Wii</td>\n",
              "      <td>Wii</td>\n",
              "      <td>2008.0</td>\n",
              "      <td>Racing</td>\n",
              "      <td>15.68</td>\n",
              "      <td>12.76</td>\n",
              "      <td>3.79</td>\n",
              "      <td>3.29</td>\n",
              "      <td>82.0</td>\n",
              "      <td>8.3</td>\n",
              "      <td>E</td>\n",
              "    </tr>\n",
              "    <tr>\n",
              "      <td>3</td>\n",
              "      <td>Wii Sports Resort</td>\n",
              "      <td>Wii</td>\n",
              "      <td>2009.0</td>\n",
              "      <td>Sports</td>\n",
              "      <td>15.61</td>\n",
              "      <td>10.93</td>\n",
              "      <td>3.28</td>\n",
              "      <td>2.95</td>\n",
              "      <td>80.0</td>\n",
              "      <td>8</td>\n",
              "      <td>E</td>\n",
              "    </tr>\n",
              "    <tr>\n",
              "      <td>4</td>\n",
              "      <td>Pokemon Red/Pokemon Blue</td>\n",
              "      <td>GB</td>\n",
              "      <td>1996.0</td>\n",
              "      <td>Role-Playing</td>\n",
              "      <td>11.27</td>\n",
              "      <td>8.89</td>\n",
              "      <td>10.22</td>\n",
              "      <td>1.00</td>\n",
              "      <td>NaN</td>\n",
              "      <td>NaN</td>\n",
              "      <td>NaN</td>\n",
              "    </tr>\n",
              "    <tr>\n",
              "      <td>5</td>\n",
              "      <td>Tetris</td>\n",
              "      <td>GB</td>\n",
              "      <td>1989.0</td>\n",
              "      <td>Puzzle</td>\n",
              "      <td>23.20</td>\n",
              "      <td>2.26</td>\n",
              "      <td>4.22</td>\n",
              "      <td>0.58</td>\n",
              "      <td>NaN</td>\n",
              "      <td>NaN</td>\n",
              "      <td>NaN</td>\n",
              "    </tr>\n",
              "    <tr>\n",
              "      <td>6</td>\n",
              "      <td>New Super Mario Bros.</td>\n",
              "      <td>DS</td>\n",
              "      <td>2006.0</td>\n",
              "      <td>Platform</td>\n",
              "      <td>11.28</td>\n",
              "      <td>9.14</td>\n",
              "      <td>6.50</td>\n",
              "      <td>2.88</td>\n",
              "      <td>89.0</td>\n",
              "      <td>8.5</td>\n",
              "      <td>E</td>\n",
              "    </tr>\n",
              "  </tbody>\n",
              "</table>\n",
              "</div>"
            ],
            "text/plain": [
              "                       Name Platform  Year_of_Release         Genre  NA_sales  \\\n",
              "0                Wii Sports      Wii           2006.0        Sports     41.36   \n",
              "1         Super Mario Bros.      NES           1985.0      Platform     29.08   \n",
              "2            Mario Kart Wii      Wii           2008.0        Racing     15.68   \n",
              "3         Wii Sports Resort      Wii           2009.0        Sports     15.61   \n",
              "4  Pokemon Red/Pokemon Blue       GB           1996.0  Role-Playing     11.27   \n",
              "5                    Tetris       GB           1989.0        Puzzle     23.20   \n",
              "6     New Super Mario Bros.       DS           2006.0      Platform     11.28   \n",
              "\n",
              "   EU_sales  JP_sales  Other_sales  Critic_Score User_Score Rating  \n",
              "0     28.96      3.77         8.45          76.0          8      E  \n",
              "1      3.58      6.81         0.77           NaN        NaN    NaN  \n",
              "2     12.76      3.79         3.29          82.0        8.3      E  \n",
              "3     10.93      3.28         2.95          80.0          8      E  \n",
              "4      8.89     10.22         1.00           NaN        NaN    NaN  \n",
              "5      2.26      4.22         0.58           NaN        NaN    NaN  \n",
              "6      9.14      6.50         2.88          89.0        8.5      E  "
            ]
          },
          "metadata": {
            "tags": []
          },
          "execution_count": 3
        }
      ]
    },
    {
      "cell_type": "code",
      "metadata": {
        "id": "4O6UJ2Y0iUUW",
        "outputId": "774a3d52-7c1b-475c-9669-07c292d99ce4"
      },
      "source": [
        "df.info()"
      ],
      "execution_count": null,
      "outputs": [
        {
          "output_type": "stream",
          "text": [
            "<class 'pandas.core.frame.DataFrame'>\n",
            "RangeIndex: 16715 entries, 0 to 16714\n",
            "Data columns (total 11 columns):\n",
            "Name               16713 non-null object\n",
            "Platform           16715 non-null object\n",
            "Year_of_Release    16446 non-null float64\n",
            "Genre              16713 non-null object\n",
            "NA_sales           16715 non-null float64\n",
            "EU_sales           16715 non-null float64\n",
            "JP_sales           16715 non-null float64\n",
            "Other_sales        16715 non-null float64\n",
            "Critic_Score       8137 non-null float64\n",
            "User_Score         10014 non-null object\n",
            "Rating             9949 non-null object\n",
            "dtypes: float64(6), object(5)\n",
            "memory usage: 1.4+ MB\n"
          ],
          "name": "stdout"
        }
      ]
    },
    {
      "cell_type": "markdown",
      "metadata": {
        "id": "B2NAKumTiUUX"
      },
      "source": [
        "**Изменим типы данных таким образом** <a id='types'></a>\n",
        "+ Name ✅\n",
        "+ Platform ✅\n",
        "+ Year_of_Release ➡️  int64 (более удобно для сравнения)\n",
        "+ Genre ✅\n",
        "+ NA_sales ✅\n",
        "+ EU_sales ✅\n",
        "+ JP_sales ✅\n",
        "+ Other_sales ✅\n",
        "+ Critic_Score ➡️  int64 (пожалуй такая точность нам ни к чему + так удобнее категоризовать)\n",
        "+ User_Score ➡️  int64 (пожалуй такая точность нам ни к чему + так удобнее категоризовать)\n",
        "+ Rating ✅"
      ]
    },
    {
      "cell_type": "code",
      "metadata": {
        "id": "oLLaxbuQiUUX",
        "outputId": "7f226de7-471b-471c-c70b-557f125ef253"
      },
      "source": [
        "print(df.isna().sum())"
      ],
      "execution_count": null,
      "outputs": [
        {
          "output_type": "stream",
          "text": [
            "Name                  2\n",
            "Platform              0\n",
            "Year_of_Release     269\n",
            "Genre                 2\n",
            "NA_sales              0\n",
            "EU_sales              0\n",
            "JP_sales              0\n",
            "Other_sales           0\n",
            "Critic_Score       8578\n",
            "User_Score         6701\n",
            "Rating             6766\n",
            "dtype: int64\n"
          ],
          "name": "stdout"
        }
      ]
    },
    {
      "cell_type": "markdown",
      "metadata": {
        "id": "vJfoF18miUUY"
      },
      "source": [
        "Пропуски в данных присутствуют"
      ]
    },
    {
      "cell_type": "code",
      "metadata": {
        "id": "Qq2B0KSqiUUY",
        "outputId": "dead6571-c7f7-44ac-cc36-f3930e9ca999"
      },
      "source": [
        "df[df['Year_of_Release'].isna()]"
      ],
      "execution_count": null,
      "outputs": [
        {
          "output_type": "execute_result",
          "data": {
            "text/html": [
              "<div>\n",
              "<style scoped>\n",
              "    .dataframe tbody tr th:only-of-type {\n",
              "        vertical-align: middle;\n",
              "    }\n",
              "\n",
              "    .dataframe tbody tr th {\n",
              "        vertical-align: top;\n",
              "    }\n",
              "\n",
              "    .dataframe thead th {\n",
              "        text-align: right;\n",
              "    }\n",
              "</style>\n",
              "<table border=\"1\" class=\"dataframe\">\n",
              "  <thead>\n",
              "    <tr style=\"text-align: right;\">\n",
              "      <th></th>\n",
              "      <th>Name</th>\n",
              "      <th>Platform</th>\n",
              "      <th>Year_of_Release</th>\n",
              "      <th>Genre</th>\n",
              "      <th>NA_sales</th>\n",
              "      <th>EU_sales</th>\n",
              "      <th>JP_sales</th>\n",
              "      <th>Other_sales</th>\n",
              "      <th>Critic_Score</th>\n",
              "      <th>User_Score</th>\n",
              "      <th>Rating</th>\n",
              "    </tr>\n",
              "  </thead>\n",
              "  <tbody>\n",
              "    <tr>\n",
              "      <td>183</td>\n",
              "      <td>Madden NFL 2004</td>\n",
              "      <td>PS2</td>\n",
              "      <td>NaN</td>\n",
              "      <td>Sports</td>\n",
              "      <td>4.26</td>\n",
              "      <td>0.26</td>\n",
              "      <td>0.01</td>\n",
              "      <td>0.71</td>\n",
              "      <td>94.0</td>\n",
              "      <td>8.5</td>\n",
              "      <td>E</td>\n",
              "    </tr>\n",
              "    <tr>\n",
              "      <td>377</td>\n",
              "      <td>FIFA Soccer 2004</td>\n",
              "      <td>PS2</td>\n",
              "      <td>NaN</td>\n",
              "      <td>Sports</td>\n",
              "      <td>0.59</td>\n",
              "      <td>2.36</td>\n",
              "      <td>0.04</td>\n",
              "      <td>0.51</td>\n",
              "      <td>84.0</td>\n",
              "      <td>6.4</td>\n",
              "      <td>E</td>\n",
              "    </tr>\n",
              "    <tr>\n",
              "      <td>456</td>\n",
              "      <td>LEGO Batman: The Videogame</td>\n",
              "      <td>Wii</td>\n",
              "      <td>NaN</td>\n",
              "      <td>Action</td>\n",
              "      <td>1.80</td>\n",
              "      <td>0.97</td>\n",
              "      <td>0.00</td>\n",
              "      <td>0.29</td>\n",
              "      <td>74.0</td>\n",
              "      <td>7.9</td>\n",
              "      <td>E10+</td>\n",
              "    </tr>\n",
              "    <tr>\n",
              "      <td>475</td>\n",
              "      <td>wwe Smackdown vs. Raw 2006</td>\n",
              "      <td>PS2</td>\n",
              "      <td>NaN</td>\n",
              "      <td>Fighting</td>\n",
              "      <td>1.57</td>\n",
              "      <td>1.02</td>\n",
              "      <td>0.00</td>\n",
              "      <td>0.41</td>\n",
              "      <td>NaN</td>\n",
              "      <td>NaN</td>\n",
              "      <td>NaN</td>\n",
              "    </tr>\n",
              "    <tr>\n",
              "      <td>609</td>\n",
              "      <td>Space Invaders</td>\n",
              "      <td>2600</td>\n",
              "      <td>NaN</td>\n",
              "      <td>Shooter</td>\n",
              "      <td>2.36</td>\n",
              "      <td>0.14</td>\n",
              "      <td>0.00</td>\n",
              "      <td>0.03</td>\n",
              "      <td>NaN</td>\n",
              "      <td>NaN</td>\n",
              "      <td>NaN</td>\n",
              "    </tr>\n",
              "    <tr>\n",
              "      <td>...</td>\n",
              "      <td>...</td>\n",
              "      <td>...</td>\n",
              "      <td>...</td>\n",
              "      <td>...</td>\n",
              "      <td>...</td>\n",
              "      <td>...</td>\n",
              "      <td>...</td>\n",
              "      <td>...</td>\n",
              "      <td>...</td>\n",
              "      <td>...</td>\n",
              "      <td>...</td>\n",
              "    </tr>\n",
              "    <tr>\n",
              "      <td>16373</td>\n",
              "      <td>PDC World Championship Darts 2008</td>\n",
              "      <td>PSP</td>\n",
              "      <td>NaN</td>\n",
              "      <td>Sports</td>\n",
              "      <td>0.01</td>\n",
              "      <td>0.00</td>\n",
              "      <td>0.00</td>\n",
              "      <td>0.00</td>\n",
              "      <td>43.0</td>\n",
              "      <td>tbd</td>\n",
              "      <td>E10+</td>\n",
              "    </tr>\n",
              "    <tr>\n",
              "      <td>16405</td>\n",
              "      <td>Freaky Flyers</td>\n",
              "      <td>GC</td>\n",
              "      <td>NaN</td>\n",
              "      <td>Racing</td>\n",
              "      <td>0.01</td>\n",
              "      <td>0.00</td>\n",
              "      <td>0.00</td>\n",
              "      <td>0.00</td>\n",
              "      <td>69.0</td>\n",
              "      <td>6.5</td>\n",
              "      <td>T</td>\n",
              "    </tr>\n",
              "    <tr>\n",
              "      <td>16448</td>\n",
              "      <td>Inversion</td>\n",
              "      <td>PC</td>\n",
              "      <td>NaN</td>\n",
              "      <td>Shooter</td>\n",
              "      <td>0.01</td>\n",
              "      <td>0.00</td>\n",
              "      <td>0.00</td>\n",
              "      <td>0.00</td>\n",
              "      <td>59.0</td>\n",
              "      <td>6.7</td>\n",
              "      <td>M</td>\n",
              "    </tr>\n",
              "    <tr>\n",
              "      <td>16458</td>\n",
              "      <td>Hakuouki: Shinsengumi Kitan</td>\n",
              "      <td>PS3</td>\n",
              "      <td>NaN</td>\n",
              "      <td>Adventure</td>\n",
              "      <td>0.01</td>\n",
              "      <td>0.00</td>\n",
              "      <td>0.00</td>\n",
              "      <td>0.00</td>\n",
              "      <td>NaN</td>\n",
              "      <td>NaN</td>\n",
              "      <td>NaN</td>\n",
              "    </tr>\n",
              "    <tr>\n",
              "      <td>16522</td>\n",
              "      <td>Virtua Quest</td>\n",
              "      <td>GC</td>\n",
              "      <td>NaN</td>\n",
              "      <td>Role-Playing</td>\n",
              "      <td>0.01</td>\n",
              "      <td>0.00</td>\n",
              "      <td>0.00</td>\n",
              "      <td>0.00</td>\n",
              "      <td>55.0</td>\n",
              "      <td>5.5</td>\n",
              "      <td>T</td>\n",
              "    </tr>\n",
              "  </tbody>\n",
              "</table>\n",
              "<p>269 rows × 11 columns</p>\n",
              "</div>"
            ],
            "text/plain": [
              "                                    Name Platform  Year_of_Release  \\\n",
              "183                      Madden NFL 2004      PS2              NaN   \n",
              "377                     FIFA Soccer 2004      PS2              NaN   \n",
              "456           LEGO Batman: The Videogame      Wii              NaN   \n",
              "475           wwe Smackdown vs. Raw 2006      PS2              NaN   \n",
              "609                       Space Invaders     2600              NaN   \n",
              "...                                  ...      ...              ...   \n",
              "16373  PDC World Championship Darts 2008      PSP              NaN   \n",
              "16405                      Freaky Flyers       GC              NaN   \n",
              "16448                          Inversion       PC              NaN   \n",
              "16458        Hakuouki: Shinsengumi Kitan      PS3              NaN   \n",
              "16522                       Virtua Quest       GC              NaN   \n",
              "\n",
              "              Genre  NA_sales  EU_sales  JP_sales  Other_sales  Critic_Score  \\\n",
              "183          Sports      4.26      0.26      0.01         0.71          94.0   \n",
              "377          Sports      0.59      2.36      0.04         0.51          84.0   \n",
              "456          Action      1.80      0.97      0.00         0.29          74.0   \n",
              "475        Fighting      1.57      1.02      0.00         0.41           NaN   \n",
              "609         Shooter      2.36      0.14      0.00         0.03           NaN   \n",
              "...             ...       ...       ...       ...          ...           ...   \n",
              "16373        Sports      0.01      0.00      0.00         0.00          43.0   \n",
              "16405        Racing      0.01      0.00      0.00         0.00          69.0   \n",
              "16448       Shooter      0.01      0.00      0.00         0.00          59.0   \n",
              "16458     Adventure      0.01      0.00      0.00         0.00           NaN   \n",
              "16522  Role-Playing      0.01      0.00      0.00         0.00          55.0   \n",
              "\n",
              "      User_Score Rating  \n",
              "183          8.5      E  \n",
              "377          6.4      E  \n",
              "456          7.9   E10+  \n",
              "475          NaN    NaN  \n",
              "609          NaN    NaN  \n",
              "...          ...    ...  \n",
              "16373        tbd   E10+  \n",
              "16405        6.5      T  \n",
              "16448        6.7      M  \n",
              "16458        NaN    NaN  \n",
              "16522        5.5      T  \n",
              "\n",
              "[269 rows x 11 columns]"
            ]
          },
          "metadata": {
            "tags": []
          },
          "execution_count": 6
        }
      ]
    },
    {
      "cell_type": "markdown",
      "metadata": {
        "id": "RkaAfhJoiUUY"
      },
      "source": [
        "Крайне небольшое кол-во данных (по сравнению с общим объемом) имеют пустой год выпуска."
      ]
    },
    {
      "cell_type": "code",
      "metadata": {
        "id": "v88nz_i-iUUZ",
        "outputId": "a0537be0-2e81-49eb-de67-f83ec6880477"
      },
      "source": [
        "df[pd.isna(df['Rating']) & pd.isna(df['User_Score']) & pd.isna(df['Critic_Score'])]['Name'].count()"
      ],
      "execution_count": null,
      "outputs": [
        {
          "output_type": "execute_result",
          "data": {
            "text/plain": [
              "6619"
            ]
          },
          "metadata": {
            "tags": []
          },
          "execution_count": 7
        }
      ]
    },
    {
      "cell_type": "markdown",
      "metadata": {
        "id": "zFNWwxKniUUa"
      },
      "source": [
        "Пропуски в столбцах Rating User_Score и Critic_Score в большинстве случаев находятся в одних и тех же строках."
      ]
    },
    {
      "cell_type": "code",
      "metadata": {
        "id": "FHayI97ZiUUa",
        "outputId": "f9d99a19-1529-421c-98a1-dca88adc813a"
      },
      "source": [
        "df[(df['Critic_Score'] > 100) & (df['Critic_Score'] < 0)]['Name'].count()"
      ],
      "execution_count": null,
      "outputs": [
        {
          "output_type": "execute_result",
          "data": {
            "text/plain": [
              "0"
            ]
          },
          "metadata": {
            "tags": []
          },
          "execution_count": 8
        }
      ]
    },
    {
      "cell_type": "code",
      "metadata": {
        "id": "tNJZMcl-iUUa",
        "outputId": "a484163d-64b4-4fb3-b288-d28a24eb2f73"
      },
      "source": [
        "df['User_Score'].value_counts()"
      ],
      "execution_count": null,
      "outputs": [
        {
          "output_type": "execute_result",
          "data": {
            "text/plain": [
              "tbd    2424\n",
              "7.8     324\n",
              "8       290\n",
              "8.2     282\n",
              "8.3     254\n",
              "       ... \n",
              "2.3       2\n",
              "1.1       2\n",
              "0.7       2\n",
              "0         1\n",
              "9.7       1\n",
              "Name: User_Score, Length: 96, dtype: int64"
            ]
          },
          "metadata": {
            "tags": []
          },
          "execution_count": 9
        }
      ]
    },
    {
      "cell_type": "markdown",
      "metadata": {
        "id": "Ag-GHwnLiUUb"
      },
      "source": [
        "Нет отрицательных значений или значений больше максимального возможного (100 и 10 соответственно)\n",
        "\n",
        "tbd = не определен, будем заполнять эти пропуски"
      ]
    },
    {
      "cell_type": "code",
      "metadata": {
        "id": "QyRycuUAiUUb",
        "outputId": "433e057b-b54a-46c2-a8d8-f855ed69e27d"
      },
      "source": [
        "df['Platform'].unique()"
      ],
      "execution_count": null,
      "outputs": [
        {
          "output_type": "execute_result",
          "data": {
            "text/plain": [
              "array(['Wii', 'NES', 'GB', 'DS', 'X360', 'PS3', 'PS2', 'SNES', 'GBA',\n",
              "       'PS4', '3DS', 'N64', 'PS', 'XB', 'PC', '2600', 'PSP', 'XOne',\n",
              "       'WiiU', 'GC', 'GEN', 'DC', 'PSV', 'SAT', 'SCD', 'WS', 'NG', 'TG16',\n",
              "       '3DO', 'GG', 'PCFX'], dtype=object)"
            ]
          },
          "metadata": {
            "tags": []
          },
          "execution_count": 10
        }
      ]
    },
    {
      "cell_type": "markdown",
      "metadata": {
        "id": "p5Q3TZL9iUUc"
      },
      "source": [
        "Все в порядке"
      ]
    },
    {
      "cell_type": "markdown",
      "metadata": {
        "id": "E1cV89XKiUUc"
      },
      "source": [
        "# Шаг 2. Предобработка данных <a id=\"step2\"></a>"
      ]
    },
    {
      "cell_type": "code",
      "metadata": {
        "id": "PiDmG2wjiUUc",
        "outputId": "f7abd351-2a1a-4fff-dd2b-e35214aed44f"
      },
      "source": [
        "df.columns = ['name','platform', 'year_of_release','genre','na_sales', 'eu_sales', 'jp_sales', 'other_sales', 'critic_score', 'user_score','rating']\n",
        "df.columns"
      ],
      "execution_count": null,
      "outputs": [
        {
          "output_type": "execute_result",
          "data": {
            "text/plain": [
              "Index(['name', 'platform', 'year_of_release', 'genre', 'na_sales', 'eu_sales',\n",
              "       'jp_sales', 'other_sales', 'critic_score', 'user_score', 'rating'],\n",
              "      dtype='object')"
            ]
          },
          "metadata": {
            "tags": []
          },
          "execution_count": 11
        }
      ]
    },
    {
      "cell_type": "markdown",
      "metadata": {
        "id": "1ozMaccRiUUd"
      },
      "source": [
        "Теперь все столбцы в нижнем регистре"
      ]
    },
    {
      "cell_type": "code",
      "metadata": {
        "id": "CVWIFCFViUUd"
      },
      "source": [
        "def func(row):\n",
        "    if(row['user_score'] == 'tbd'):\n",
        "        return -1;\n",
        "    return row['user_score'];"
      ],
      "execution_count": null,
      "outputs": []
    },
    {
      "cell_type": "code",
      "metadata": {
        "id": "1_inUaDdiUUd",
        "outputId": "4d7882c5-4d0f-4877-8e35-326d572706b0"
      },
      "source": [
        "df['year_of_release'] = df['year_of_release'].fillna(-1).astype(int)\n",
        "df['critic_score'] = df['critic_score'].fillna(-1).astype(int)\n",
        "df['user_score'] = df['user_score'].fillna(-1)\n",
        "df['user_score'] = df.apply(func, axis = 1)\n",
        "df['user_score'] = pd.to_numeric(df['user_score']).astype(int)\n",
        "df.info()"
      ],
      "execution_count": null,
      "outputs": [
        {
          "output_type": "stream",
          "text": [
            "<class 'pandas.core.frame.DataFrame'>\n",
            "RangeIndex: 16715 entries, 0 to 16714\n",
            "Data columns (total 11 columns):\n",
            "name               16713 non-null object\n",
            "platform           16715 non-null object\n",
            "year_of_release    16715 non-null int64\n",
            "genre              16713 non-null object\n",
            "na_sales           16715 non-null float64\n",
            "eu_sales           16715 non-null float64\n",
            "jp_sales           16715 non-null float64\n",
            "other_sales        16715 non-null float64\n",
            "critic_score       16715 non-null int64\n",
            "user_score         16715 non-null int64\n",
            "rating             9949 non-null object\n",
            "dtypes: float64(4), int64(3), object(4)\n",
            "memory usage: 1.4+ MB\n"
          ],
          "name": "stdout"
        }
      ]
    },
    {
      "cell_type": "markdown",
      "metadata": {
        "id": "T9QSz8kBiUUe"
      },
      "source": [
        "Теперь все колонки имеют правильный тип данных. Тип данных меняли согласно [таблице](#types) составленной выше."
      ]
    },
    {
      "cell_type": "code",
      "metadata": {
        "id": "Mm2v176miUUf",
        "outputId": "5fc5927d-9470-4f2c-b7dd-37b3fa0fe5a0"
      },
      "source": [
        "df[df['year_of_release'] == -1]['name'].count() / df.shape[0]"
      ],
      "execution_count": null,
      "outputs": [
        {
          "output_type": "execute_result",
          "data": {
            "text/plain": [
              "0.01609332934489979"
            ]
          },
          "metadata": {
            "tags": []
          },
          "execution_count": 14
        }
      ]
    },
    {
      "cell_type": "markdown",
      "metadata": {
        "id": "8fyKob3RiUUf"
      },
      "source": [
        "1.6% - доля игр с пропущенным годом выпуска. Думаю что таким процентом данных можно пожертвовать ради экономии времени.\n",
        "\n",
        "Пропуск мог образоваться из-за малой известности игры или если она предварительно вышла на другой платформе в том же году и тот кто заполнял таблицу решил не дублировать год выпуска."
      ]
    },
    {
      "cell_type": "code",
      "metadata": {
        "id": "CiaCbgJWiUUf",
        "outputId": "50bba6e8-9bee-4532-fdef-58e112db30b0"
      },
      "source": [
        "df = df[df['year_of_release'] != -1]\n",
        "df[df['year_of_release'] == -1]['name'].count()"
      ],
      "execution_count": null,
      "outputs": [
        {
          "output_type": "execute_result",
          "data": {
            "text/plain": [
              "0"
            ]
          },
          "metadata": {
            "tags": []
          },
          "execution_count": 15
        }
      ]
    },
    {
      "cell_type": "markdown",
      "metadata": {
        "id": "p2S8FECMiUUf"
      },
      "source": [
        "Заполним пропуски в столбцах critic_score и user_score средними значениями по жанрам."
      ]
    },
    {
      "cell_type": "code",
      "metadata": {
        "scrolled": true,
        "id": "4YIVnO6AiUUg",
        "outputId": "7a15c862-8ef6-4829-930d-ff44301f4771"
      },
      "source": [
        "df[df['genre'].isna()]"
      ],
      "execution_count": null,
      "outputs": [
        {
          "output_type": "execute_result",
          "data": {
            "text/html": [
              "<div>\n",
              "<style scoped>\n",
              "    .dataframe tbody tr th:only-of-type {\n",
              "        vertical-align: middle;\n",
              "    }\n",
              "\n",
              "    .dataframe tbody tr th {\n",
              "        vertical-align: top;\n",
              "    }\n",
              "\n",
              "    .dataframe thead th {\n",
              "        text-align: right;\n",
              "    }\n",
              "</style>\n",
              "<table border=\"1\" class=\"dataframe\">\n",
              "  <thead>\n",
              "    <tr style=\"text-align: right;\">\n",
              "      <th></th>\n",
              "      <th>name</th>\n",
              "      <th>platform</th>\n",
              "      <th>year_of_release</th>\n",
              "      <th>genre</th>\n",
              "      <th>na_sales</th>\n",
              "      <th>eu_sales</th>\n",
              "      <th>jp_sales</th>\n",
              "      <th>other_sales</th>\n",
              "      <th>critic_score</th>\n",
              "      <th>user_score</th>\n",
              "      <th>rating</th>\n",
              "    </tr>\n",
              "  </thead>\n",
              "  <tbody>\n",
              "    <tr>\n",
              "      <td>659</td>\n",
              "      <td>NaN</td>\n",
              "      <td>GEN</td>\n",
              "      <td>1993</td>\n",
              "      <td>NaN</td>\n",
              "      <td>1.78</td>\n",
              "      <td>0.53</td>\n",
              "      <td>0.00</td>\n",
              "      <td>0.08</td>\n",
              "      <td>-1</td>\n",
              "      <td>-1</td>\n",
              "      <td>NaN</td>\n",
              "    </tr>\n",
              "    <tr>\n",
              "      <td>14244</td>\n",
              "      <td>NaN</td>\n",
              "      <td>GEN</td>\n",
              "      <td>1993</td>\n",
              "      <td>NaN</td>\n",
              "      <td>0.00</td>\n",
              "      <td>0.00</td>\n",
              "      <td>0.03</td>\n",
              "      <td>0.00</td>\n",
              "      <td>-1</td>\n",
              "      <td>-1</td>\n",
              "      <td>NaN</td>\n",
              "    </tr>\n",
              "  </tbody>\n",
              "</table>\n",
              "</div>"
            ],
            "text/plain": [
              "      name platform  year_of_release genre  na_sales  eu_sales  jp_sales  \\\n",
              "659    NaN      GEN             1993   NaN      1.78      0.53      0.00   \n",
              "14244  NaN      GEN             1993   NaN      0.00      0.00      0.03   \n",
              "\n",
              "       other_sales  critic_score  user_score rating  \n",
              "659           0.08            -1          -1    NaN  \n",
              "14244         0.00            -1          -1    NaN  "
            ]
          },
          "metadata": {
            "tags": []
          },
          "execution_count": 16
        }
      ]
    },
    {
      "cell_type": "markdown",
      "metadata": {
        "id": "AMmbwBFziUUg"
      },
      "source": [
        "Удалим 2 строки с пустым именем и жанром"
      ]
    },
    {
      "cell_type": "code",
      "metadata": {
        "id": "T5gUm9KLiUUh",
        "outputId": "c24a4c76-8eec-47f1-939f-6c0cc8beecd6"
      },
      "source": [
        "df = df[df['name'].isna() == False]\n",
        "df['name'].isna().sum()"
      ],
      "execution_count": null,
      "outputs": [
        {
          "output_type": "execute_result",
          "data": {
            "text/plain": [
              "0"
            ]
          },
          "metadata": {
            "tags": []
          },
          "execution_count": 17
        }
      ]
    },
    {
      "cell_type": "code",
      "metadata": {
        "id": "LVsandaCiUUi"
      },
      "source": [
        "df.reset_index(inplace=True, drop=True)"
      ],
      "execution_count": null,
      "outputs": []
    },
    {
      "cell_type": "code",
      "metadata": {
        "id": "EPrGJUZ1iUUi",
        "outputId": "5ba71033-7b32-419f-e835-a17c245ef521"
      },
      "source": [
        "df['rating'].isna().sum()"
      ],
      "execution_count": null,
      "outputs": [
        {
          "output_type": "execute_result",
          "data": {
            "text/plain": [
              "6676"
            ]
          },
          "metadata": {
            "tags": []
          },
          "execution_count": 19
        }
      ]
    },
    {
      "cell_type": "code",
      "metadata": {
        "id": "NRc9pecJiUUj"
      },
      "source": [
        "def func3(row):\n",
        "    if (pd.isna(row['rating'])):\n",
        "        a = df[(df['name'] == row['name']) & (df['rating'].isna() == False)]['rating'].tolist()\n",
        "        if (len(a)):\n",
        "            return a[0]\n",
        "        else:\n",
        "            return row['rating']\n",
        "    else: \n",
        "        return row['rating']"
      ],
      "execution_count": null,
      "outputs": []
    },
    {
      "cell_type": "code",
      "metadata": {
        "id": "5E5HbwRxiUUj"
      },
      "source": [
        "df['rating'] = df.apply(func3, axis = 1)"
      ],
      "execution_count": null,
      "outputs": []
    },
    {
      "cell_type": "code",
      "metadata": {
        "id": "nuFzLi4xiUUj",
        "outputId": "11ae374f-bb98-43f8-f68e-d9d53bd6faa7"
      },
      "source": [
        "df['rating'].isna().sum()"
      ],
      "execution_count": null,
      "outputs": [
        {
          "output_type": "execute_result",
          "data": {
            "text/plain": [
              "6259"
            ]
          },
          "metadata": {
            "tags": []
          },
          "execution_count": 22
        }
      ]
    },
    {
      "cell_type": "markdown",
      "metadata": {
        "id": "_FLOK9tEiUUk"
      },
      "source": [
        "Получилось устранить 417 пропусков в столбце rating. Действенных методов заполнения этих пропусков придумать не получается, так что придется просто заполнить пустые значения строкой unknown и продолжить исследование."
      ]
    },
    {
      "cell_type": "code",
      "metadata": {
        "id": "rOC-qhPdiUUk"
      },
      "source": [
        "df['rating'] = df['rating'].fillna('unknown')"
      ],
      "execution_count": null,
      "outputs": []
    },
    {
      "cell_type": "code",
      "metadata": {
        "id": "HCkmraxIiUUk",
        "outputId": "7354b98f-2e54-40d5-dd17-ed38738a0359"
      },
      "source": [
        "df.info()"
      ],
      "execution_count": null,
      "outputs": [
        {
          "output_type": "stream",
          "text": [
            "<class 'pandas.core.frame.DataFrame'>\n",
            "RangeIndex: 16444 entries, 0 to 16443\n",
            "Data columns (total 11 columns):\n",
            "name               16444 non-null object\n",
            "platform           16444 non-null object\n",
            "year_of_release    16444 non-null int64\n",
            "genre              16444 non-null object\n",
            "na_sales           16444 non-null float64\n",
            "eu_sales           16444 non-null float64\n",
            "jp_sales           16444 non-null float64\n",
            "other_sales        16444 non-null float64\n",
            "critic_score       16444 non-null int64\n",
            "user_score         16444 non-null int64\n",
            "rating             16444 non-null object\n",
            "dtypes: float64(4), int64(3), object(4)\n",
            "memory usage: 1.4+ MB\n"
          ],
          "name": "stdout"
        }
      ]
    },
    {
      "cell_type": "code",
      "metadata": {
        "id": "9l2u4YHjiUUk"
      },
      "source": [
        "df['sum_sales'] = df['na_sales'] + df['eu_sales'] + df['jp_sales'] + df['other_sales']"
      ],
      "execution_count": null,
      "outputs": []
    },
    {
      "cell_type": "code",
      "metadata": {
        "id": "dUwtGp-GiUUk",
        "outputId": "6d3a7bb5-d9c9-4676-caf7-ccaf8690ba8b"
      },
      "source": [
        "df"
      ],
      "execution_count": null,
      "outputs": [
        {
          "output_type": "execute_result",
          "data": {
            "text/html": [
              "<div>\n",
              "<style scoped>\n",
              "    .dataframe tbody tr th:only-of-type {\n",
              "        vertical-align: middle;\n",
              "    }\n",
              "\n",
              "    .dataframe tbody tr th {\n",
              "        vertical-align: top;\n",
              "    }\n",
              "\n",
              "    .dataframe thead th {\n",
              "        text-align: right;\n",
              "    }\n",
              "</style>\n",
              "<table border=\"1\" class=\"dataframe\">\n",
              "  <thead>\n",
              "    <tr style=\"text-align: right;\">\n",
              "      <th></th>\n",
              "      <th>name</th>\n",
              "      <th>platform</th>\n",
              "      <th>year_of_release</th>\n",
              "      <th>genre</th>\n",
              "      <th>na_sales</th>\n",
              "      <th>eu_sales</th>\n",
              "      <th>jp_sales</th>\n",
              "      <th>other_sales</th>\n",
              "      <th>critic_score</th>\n",
              "      <th>user_score</th>\n",
              "      <th>rating</th>\n",
              "      <th>sum_sales</th>\n",
              "    </tr>\n",
              "  </thead>\n",
              "  <tbody>\n",
              "    <tr>\n",
              "      <td>0</td>\n",
              "      <td>Wii Sports</td>\n",
              "      <td>Wii</td>\n",
              "      <td>2006</td>\n",
              "      <td>Sports</td>\n",
              "      <td>41.36</td>\n",
              "      <td>28.96</td>\n",
              "      <td>3.77</td>\n",
              "      <td>8.45</td>\n",
              "      <td>76</td>\n",
              "      <td>8</td>\n",
              "      <td>E</td>\n",
              "      <td>82.54</td>\n",
              "    </tr>\n",
              "    <tr>\n",
              "      <td>1</td>\n",
              "      <td>Super Mario Bros.</td>\n",
              "      <td>NES</td>\n",
              "      <td>1985</td>\n",
              "      <td>Platform</td>\n",
              "      <td>29.08</td>\n",
              "      <td>3.58</td>\n",
              "      <td>6.81</td>\n",
              "      <td>0.77</td>\n",
              "      <td>-1</td>\n",
              "      <td>-1</td>\n",
              "      <td>unknown</td>\n",
              "      <td>40.24</td>\n",
              "    </tr>\n",
              "    <tr>\n",
              "      <td>2</td>\n",
              "      <td>Mario Kart Wii</td>\n",
              "      <td>Wii</td>\n",
              "      <td>2008</td>\n",
              "      <td>Racing</td>\n",
              "      <td>15.68</td>\n",
              "      <td>12.76</td>\n",
              "      <td>3.79</td>\n",
              "      <td>3.29</td>\n",
              "      <td>82</td>\n",
              "      <td>8</td>\n",
              "      <td>E</td>\n",
              "      <td>35.52</td>\n",
              "    </tr>\n",
              "    <tr>\n",
              "      <td>3</td>\n",
              "      <td>Wii Sports Resort</td>\n",
              "      <td>Wii</td>\n",
              "      <td>2009</td>\n",
              "      <td>Sports</td>\n",
              "      <td>15.61</td>\n",
              "      <td>10.93</td>\n",
              "      <td>3.28</td>\n",
              "      <td>2.95</td>\n",
              "      <td>80</td>\n",
              "      <td>8</td>\n",
              "      <td>E</td>\n",
              "      <td>32.77</td>\n",
              "    </tr>\n",
              "    <tr>\n",
              "      <td>4</td>\n",
              "      <td>Pokemon Red/Pokemon Blue</td>\n",
              "      <td>GB</td>\n",
              "      <td>1996</td>\n",
              "      <td>Role-Playing</td>\n",
              "      <td>11.27</td>\n",
              "      <td>8.89</td>\n",
              "      <td>10.22</td>\n",
              "      <td>1.00</td>\n",
              "      <td>-1</td>\n",
              "      <td>-1</td>\n",
              "      <td>unknown</td>\n",
              "      <td>31.38</td>\n",
              "    </tr>\n",
              "    <tr>\n",
              "      <td>...</td>\n",
              "      <td>...</td>\n",
              "      <td>...</td>\n",
              "      <td>...</td>\n",
              "      <td>...</td>\n",
              "      <td>...</td>\n",
              "      <td>...</td>\n",
              "      <td>...</td>\n",
              "      <td>...</td>\n",
              "      <td>...</td>\n",
              "      <td>...</td>\n",
              "      <td>...</td>\n",
              "      <td>...</td>\n",
              "    </tr>\n",
              "    <tr>\n",
              "      <td>16439</td>\n",
              "      <td>Samurai Warriors: Sanada Maru</td>\n",
              "      <td>PS3</td>\n",
              "      <td>2016</td>\n",
              "      <td>Action</td>\n",
              "      <td>0.00</td>\n",
              "      <td>0.00</td>\n",
              "      <td>0.01</td>\n",
              "      <td>0.00</td>\n",
              "      <td>-1</td>\n",
              "      <td>-1</td>\n",
              "      <td>unknown</td>\n",
              "      <td>0.01</td>\n",
              "    </tr>\n",
              "    <tr>\n",
              "      <td>16440</td>\n",
              "      <td>LMA Manager 2007</td>\n",
              "      <td>X360</td>\n",
              "      <td>2006</td>\n",
              "      <td>Sports</td>\n",
              "      <td>0.00</td>\n",
              "      <td>0.01</td>\n",
              "      <td>0.00</td>\n",
              "      <td>0.00</td>\n",
              "      <td>-1</td>\n",
              "      <td>-1</td>\n",
              "      <td>unknown</td>\n",
              "      <td>0.01</td>\n",
              "    </tr>\n",
              "    <tr>\n",
              "      <td>16441</td>\n",
              "      <td>Haitaka no Psychedelica</td>\n",
              "      <td>PSV</td>\n",
              "      <td>2016</td>\n",
              "      <td>Adventure</td>\n",
              "      <td>0.00</td>\n",
              "      <td>0.00</td>\n",
              "      <td>0.01</td>\n",
              "      <td>0.00</td>\n",
              "      <td>-1</td>\n",
              "      <td>-1</td>\n",
              "      <td>unknown</td>\n",
              "      <td>0.01</td>\n",
              "    </tr>\n",
              "    <tr>\n",
              "      <td>16442</td>\n",
              "      <td>Spirits &amp; Spells</td>\n",
              "      <td>GBA</td>\n",
              "      <td>2003</td>\n",
              "      <td>Platform</td>\n",
              "      <td>0.01</td>\n",
              "      <td>0.00</td>\n",
              "      <td>0.00</td>\n",
              "      <td>0.00</td>\n",
              "      <td>-1</td>\n",
              "      <td>-1</td>\n",
              "      <td>unknown</td>\n",
              "      <td>0.01</td>\n",
              "    </tr>\n",
              "    <tr>\n",
              "      <td>16443</td>\n",
              "      <td>Winning Post 8 2016</td>\n",
              "      <td>PSV</td>\n",
              "      <td>2016</td>\n",
              "      <td>Simulation</td>\n",
              "      <td>0.00</td>\n",
              "      <td>0.00</td>\n",
              "      <td>0.01</td>\n",
              "      <td>0.00</td>\n",
              "      <td>-1</td>\n",
              "      <td>-1</td>\n",
              "      <td>unknown</td>\n",
              "      <td>0.01</td>\n",
              "    </tr>\n",
              "  </tbody>\n",
              "</table>\n",
              "<p>16444 rows × 12 columns</p>\n",
              "</div>"
            ],
            "text/plain": [
              "                                name platform  year_of_release         genre  \\\n",
              "0                         Wii Sports      Wii             2006        Sports   \n",
              "1                  Super Mario Bros.      NES             1985      Platform   \n",
              "2                     Mario Kart Wii      Wii             2008        Racing   \n",
              "3                  Wii Sports Resort      Wii             2009        Sports   \n",
              "4           Pokemon Red/Pokemon Blue       GB             1996  Role-Playing   \n",
              "...                              ...      ...              ...           ...   \n",
              "16439  Samurai Warriors: Sanada Maru      PS3             2016        Action   \n",
              "16440               LMA Manager 2007     X360             2006        Sports   \n",
              "16441        Haitaka no Psychedelica      PSV             2016     Adventure   \n",
              "16442               Spirits & Spells      GBA             2003      Platform   \n",
              "16443            Winning Post 8 2016      PSV             2016    Simulation   \n",
              "\n",
              "       na_sales  eu_sales  jp_sales  other_sales  critic_score  user_score  \\\n",
              "0         41.36     28.96      3.77         8.45            76           8   \n",
              "1         29.08      3.58      6.81         0.77            -1          -1   \n",
              "2         15.68     12.76      3.79         3.29            82           8   \n",
              "3         15.61     10.93      3.28         2.95            80           8   \n",
              "4         11.27      8.89     10.22         1.00            -1          -1   \n",
              "...         ...       ...       ...          ...           ...         ...   \n",
              "16439      0.00      0.00      0.01         0.00            -1          -1   \n",
              "16440      0.00      0.01      0.00         0.00            -1          -1   \n",
              "16441      0.00      0.00      0.01         0.00            -1          -1   \n",
              "16442      0.01      0.00      0.00         0.00            -1          -1   \n",
              "16443      0.00      0.00      0.01         0.00            -1          -1   \n",
              "\n",
              "        rating  sum_sales  \n",
              "0            E      82.54  \n",
              "1      unknown      40.24  \n",
              "2            E      35.52  \n",
              "3            E      32.77  \n",
              "4      unknown      31.38  \n",
              "...        ...        ...  \n",
              "16439  unknown       0.01  \n",
              "16440  unknown       0.01  \n",
              "16441  unknown       0.01  \n",
              "16442  unknown       0.01  \n",
              "16443  unknown       0.01  \n",
              "\n",
              "[16444 rows x 12 columns]"
            ]
          },
          "metadata": {
            "tags": []
          },
          "execution_count": 26
        }
      ]
    },
    {
      "cell_type": "markdown",
      "metadata": {
        "id": "3GXbzVtZiUUl"
      },
      "source": [
        "# Шаг 3. Проведите исследовательский анализ данных <a id='step3'></a>"
      ]
    },
    {
      "cell_type": "markdown",
      "metadata": {
        "id": "mqlNluciiUUl"
      },
      "source": [
        "+ Посмотрите, сколько игр выпускалось в разные годы. Важны ли данные за все периоды?"
      ]
    },
    {
      "cell_type": "code",
      "metadata": {
        "id": "R-YPga8RiUUl",
        "outputId": "935120b6-78f0-450a-f87c-652a41b3f8a1"
      },
      "source": [
        "axes = df.groupby('year_of_release')['name'].count().plot(kind = 'bar',title = 'Amount of games per years',figsize=(10,5))"
      ],
      "execution_count": null,
      "outputs": [
        {
          "output_type": "display_data",
          "data": {
            "image/png": "[encoded data removed]",
            "text/plain": [
              "<Figure size 720x360 with 1 Axes>"
            ]
          },
          "metadata": {
            "tags": [],
            "needs_background": "light"
          }
        }
      ]
    },
    {
      "cell_type": "markdown",
      "metadata": {
        "id": "cmIJt1yNiUUl"
      },
      "source": [
        "В целом по графику видно что года до 2001 представляют мало инетреса для исследований. \n",
        "\n",
        "В целом можно использовать в исследовании только year_of_release > 2001"
      ]
    },
    {
      "cell_type": "code",
      "metadata": {
        "id": "eAM-zAxkiUUm"
      },
      "source": [
        "df_r = df.query('year_of_release > 2001')"
      ],
      "execution_count": null,
      "outputs": []
    },
    {
      "cell_type": "markdown",
      "metadata": {
        "id": "B5XLA4s1iUUm"
      },
      "source": [
        "+ Посмотрите, как менялись продажи по платформам. Выберите платформы с наибольшими суммарными продажами и постройте распределение по годам. За какой характерный срок появляются новые и исчезают старые платформы?"
      ]
    },
    {
      "cell_type": "code",
      "metadata": {
        "id": "v0HBHt-liUUm",
        "outputId": "1eb841dd-99f5-487a-faae-5a6c5070496f"
      },
      "source": [
        "top_platforms = df.groupby('platform')['sum_sales'].sum().sort_values(ascending=False).index[0:3]\n",
        "top_platforms"
      ],
      "execution_count": null,
      "outputs": [
        {
          "output_type": "execute_result",
          "data": {
            "text/plain": [
              "Index(['PS2', 'X360', 'PS3'], dtype='object', name='platform')"
            ]
          },
          "metadata": {
            "tags": []
          },
          "execution_count": 29
        }
      ]
    },
    {
      "cell_type": "code",
      "metadata": {
        "id": "YEalZ03MiUUm"
      },
      "source": [
        "d1 = [[],[],[]]\n",
        "df_r.reset_index(inplace=True, drop=True)\n",
        "l = df_r.query('platform in @top_platforms').pivot_table(index = ['year_of_release', 'platform'], values='sum_sales',aggfunc='sum')"
      ],
      "execution_count": null,
      "outputs": []
    },
    {
      "cell_type": "code",
      "metadata": {
        "id": "QjPYzK7OiUUn"
      },
      "source": [
        "for i in range(2002,2017):\n",
        "    d1[0].append(0 if 'PS2' not in l['sum_sales'][i].index else l['sum_sales'][i]['PS2'])\n",
        "    d1[1].append(0 if 'X360' not in l['sum_sales'][i].index else l['sum_sales'][i]['X360'])\n",
        "    d1[2].append(0 if 'PS3' not in l['sum_sales'][i].index else l['sum_sales'][i]['PS3'])\n"
      ],
      "execution_count": null,
      "outputs": []
    },
    {
      "cell_type": "code",
      "metadata": {
        "id": "cwzM1EaOiUUn"
      },
      "source": [
        "d = {'ps2': d1[0], 'x360': d1[1], 'ps3': d1[2]}\n",
        "df_r1 = pd.DataFrame(data = d,index = range(2002,2017),columns = ['ps2', 'x360', 'ps3'])"
      ],
      "execution_count": null,
      "outputs": []
    },
    {
      "cell_type": "code",
      "metadata": {
        "id": "Rb9-NOwHiUUn",
        "outputId": "7457e946-d52c-498c-b7db-589313d635cf"
      },
      "source": [
        "axes = df_r1.plot(kind = 'bar',title = 'Platform trends per year',figsize=(15,5))"
      ],
      "execution_count": null,
      "outputs": [
        {
          "output_type": "display_data",
          "data": {
            "image/png": "[encoded data removed]",
            "text/plain": [
              "<Figure size 1080x360 with 1 Axes>"
            ]
          },
          "metadata": {
            "tags": [],
            "needs_background": "light"
          }
        }
      ]
    },
    {
      "cell_type": "markdown",
      "metadata": {
        "id": "frTMJ_AAiUUn"
      },
      "source": [
        "Характерный срок составляет 10-11 лет коммерческой успешой жизни платформы."
      ]
    },
    {
      "cell_type": "markdown",
      "metadata": {
        "id": "KaIOPbm7iUUn"
      },
      "source": [
        "+ Возьмите данные за соответствующий актуальный период. \n",
        "+ Актуальный период определите самостоятельно в результате исследования предыдущих вопросов. Основной фактор — эти данные помогут построить прогноз на 2017 год.\n",
        "+ Не учитывайте в работе данные за предыдущие годы."
      ]
    },
    {
      "cell_type": "code",
      "metadata": {
        "id": "0iv7LvHpiUUo"
      },
      "source": [
        "df_r = df.query('year_of_release >= 2013')"
      ],
      "execution_count": null,
      "outputs": []
    },
    {
      "cell_type": "markdown",
      "metadata": {
        "id": "jZsVVi1iiUUo"
      },
      "source": [
        "Возьмем за актуальныей период, время с пояления xbox 360."
      ]
    },
    {
      "cell_type": "markdown",
      "metadata": {
        "id": "ND_menHZiUUp"
      },
      "source": [
        "+ Какие платформы лидируют по продажам, растут или падают? Выберите несколько потенциально прибыльных платформ."
      ]
    },
    {
      "cell_type": "code",
      "metadata": {
        "id": "yWnXj05jiUUp",
        "outputId": "c17b197c-b102-4a28-8219-07efcb8e4994"
      },
      "source": [
        "l = df_r.pivot_table(index = ['year_of_release', 'platform'], values='sum_sales',aggfunc='sum')\n",
        "l['sum_sales'][2016]"
      ],
      "execution_count": null,
      "outputs": [
        {
          "output_type": "execute_result",
          "data": {
            "text/plain": [
              "platform\n",
              "3DS     15.14\n",
              "PC       5.25\n",
              "PS3      3.60\n",
              "PS4     69.25\n",
              "PSV      4.25\n",
              "Wii      0.18\n",
              "WiiU     4.60\n",
              "X360     1.52\n",
              "XOne    26.15\n",
              "Name: sum_sales, dtype: float64"
            ]
          },
          "metadata": {
            "tags": []
          },
          "execution_count": 35
        }
      ]
    },
    {
      "cell_type": "markdown",
      "metadata": {
        "id": "Lkn4eMvAiUUq"
      },
      "source": [
        "Возьмем 3DS PS4 и XOne и PC как самые продающиеся для проверки потенциальной прибыльности"
      ]
    },
    {
      "cell_type": "code",
      "metadata": {
        "id": "ylcpodwOiUUr",
        "outputId": "5305b738-3254-4e14-99b1-f9b8287339fb"
      },
      "source": [
        "test_platform = ['3DS','PS4','XOne','PC','WiiU','Wii','X360','PS3','PC']\n",
        "d1 = [[] for i in range(len(test_platform))]\n",
        "for i in range(2013,2017):\n",
        "    for j in range(len(test_platform)):\n",
        "        d1[j].append(0 if test_platform[j] not in l['sum_sales'][i].index else l['sum_sales'][i][test_platform[j]])\n",
        "d = {test_platform[i] : d1[i] for i in range(len(test_platform))}\n",
        "df_r1 = pd.DataFrame(data = d,index = range(2013,2017),columns = test_platform)\n",
        "axes = df_r1.plot(kind = 'bar',title = 'Platform trends per actual years',figsize=(15,5))"
      ],
      "execution_count": null,
      "outputs": [
        {
          "output_type": "display_data",
          "data": {
            "image/png": "[encoded data removed]",
            "text/plain": [
              "<Figure size 1080x360 with 1 Axes>"
            ]
          },
          "metadata": {
            "tags": [],
            "needs_background": "light"
          }
        }
      ]
    },
    {
      "cell_type": "markdown",
      "metadata": {
        "id": "YBN8MAeviUUr"
      },
      "source": [
        "Потенциально прибыльными являются PS4 и XOne и 3DS потому что их коммерческий жизненный срок еще не истек и они хорошо продавались в последние годы."
      ]
    },
    {
      "cell_type": "markdown",
      "metadata": {
        "id": "F8Yens8WiUUr"
      },
      "source": [
        "+ Постройте график «ящик с усами» по глобальным продажам игр в разбивке по платформам. Опишите результат."
      ]
    },
    {
      "cell_type": "code",
      "metadata": {
        "id": "3FxBurpWiUUs",
        "outputId": "243667f0-e1bf-4d20-b039-d596bd9fdd2a"
      },
      "source": [
        "selected_games = df_r.query('platform in [\"PS4\", \"XOne\",\"3DS\",\"PC\"]')\n",
        "plt.figure(figsize=(10,10))\n",
        "sns.boxplot(x = 'platform', y = 'sum_sales', palette = 'rainbow', data = selected_games)\n",
        "plt.title('Describe of top platforms sales (row)')\n",
        "plt.show()\n",
        "plt.close()"
      ],
      "execution_count": null,
      "outputs": [
        {
          "output_type": "display_data",
          "data": {
            "image/png": "[encoded data removed]",
            "text/plain": [
              "<Figure size 720x720 with 1 Axes>"
            ]
          },
          "metadata": {
            "tags": [],
            "needs_background": "light"
          }
        }
      ]
    },
    {
      "cell_type": "markdown",
      "metadata": {
        "id": "l1llSD6FiUUs"
      },
      "source": [
        "Все платформы имеют большое кол-во выбросов. Данные не симметричны и смещены влево(в сторону меньших сумм).\n",
        "\n",
        "Удалим выбросы чтобы сделать графики более показательными."
      ]
    },
    {
      "cell_type": "code",
      "metadata": {
        "id": "TqsBwjU2iUUt"
      },
      "source": [
        "for i in [\"PS4\", \"XOne\",\"3DS\",\"PC\"]:\n",
        "    Q1 = selected_games[selected_games['platform'] == i]['sum_sales'].quantile(0.25)\n",
        "    Q3 = selected_games[selected_games['platform'] == i]['sum_sales'].quantile(0.75)\n",
        "    IQR = Q3 - Q1\n",
        "    selected_games = selected_games[((selected_games['sum_sales'] > Q1 - 1.5 * IQR) & (selected_games['sum_sales'] < Q3 + 1.5 * IQR)) | (selected_games['platform'] != i)]\n",
        "    "
      ],
      "execution_count": null,
      "outputs": []
    },
    {
      "cell_type": "code",
      "metadata": {
        "id": "C8fjxnZWiUUt",
        "outputId": "eae391bd-8789-42bf-c8e6-da0e3a220cbf"
      },
      "source": [
        "plt.figure(figsize=(10,10))\n",
        "sns.boxplot(x = 'platform', y = 'sum_sales', palette = 'rainbow', data = selected_games)\n",
        "plt.title('Describe of top platforms sales (no emissions)')\n",
        "plt.show()\n",
        "plt.close()"
      ],
      "execution_count": null,
      "outputs": [
        {
          "output_type": "display_data",
          "data": {
            "image/png": "[encoded data removed]",
            "text/plain": [
              "<Figure size 720x720 with 1 Axes>"
            ]
          },
          "metadata": {
            "tags": [],
            "needs_background": "light"
          }
        }
      ]
    },
    {
      "cell_type": "markdown",
      "metadata": {
        "id": "Ewa66NS-iUUu"
      },
      "source": [
        "Теперь видно что средние значения отличаются не слишком сильно, но лидирует XOne."
      ]
    },
    {
      "cell_type": "markdown",
      "metadata": {
        "id": "YDJUc1qOiUUw"
      },
      "source": [
        "+ Посмотрите, как влияют на продажи внутри одной популярной платформы отзывы пользователей и критиков. Постройте диаграмму рассеяния и посчитайте корреляцию между отзывами и продажами. Сформулируйте выводы."
      ]
    },
    {
      "cell_type": "markdown",
      "metadata": {
        "id": "wtPxUmw3iUUx"
      },
      "source": [
        "Для исследования возьмем платформу XOne."
      ]
    },
    {
      "cell_type": "code",
      "metadata": {
        "id": "QYKjgtgyiUUx",
        "outputId": "895a49bf-e8b9-4025-bcee-55a742381be6"
      },
      "source": [
        "df_r.query('platform == \"XOne\" and user_score != -1').plot(y='sum_sales', x='user_score', kind='hexbin', gridsize=20, \n",
        "          figsize=(8, 6), sharex=False, grid=True,cmap = 'PuRd', title=\"Dependence of the summary sales on XOne on the users rating score\")\n",
        "print(\"Корреляция =\", df_r.query('platform == \"XOne\" and user_score != -1')['user_score'].corr(df_r.query('platform == \"XOne\" and user_score != -1')['sum_sales']))"
      ],
      "execution_count": null,
      "outputs": [
        {
          "output_type": "stream",
          "text": [
            "Корреляция = -0.08248274844768902\n"
          ],
          "name": "stdout"
        },
        {
          "output_type": "display_data",
          "data": {
            "image/png": "[encoded data removed]",
            "text/plain": [
              "<Figure size 576x432 with 2 Axes>"
            ]
          },
          "metadata": {
            "tags": [],
            "needs_background": "light"
          }
        }
      ]
    },
    {
      "cell_type": "markdown",
      "metadata": {
        "id": "F72yprIQiUUx"
      },
      "source": [
        "Корелляция минимальная, еще и отрицательна. Параметры мало зависят друг от друга."
      ]
    },
    {
      "cell_type": "code",
      "metadata": {
        "id": "mVVhldCriUUx",
        "outputId": "eadf57dd-02a4-44ac-ce31-440da12a5c32"
      },
      "source": [
        "df_r.query('platform == \"XOne\" and critic_score != -1').plot(y='sum_sales', x='critic_score', kind='hexbin', gridsize=20, \n",
        "          figsize=(10, 6), sharex=False, grid=True,cmap = 'PuRd', title=\"Dependence of the summary sales on XOne the critics rating score\")\n",
        "print(\"Корреляция =\", df_r.query('platform == \"XOne\" and critic_score != -1')['critic_score'].corr(df_r.query('platform == \"XOne\" and critic_score != -1')['sum_sales']))"
      ],
      "execution_count": null,
      "outputs": [
        {
          "output_type": "stream",
          "text": [
            "Корреляция = 0.4169983280084017\n"
          ],
          "name": "stdout"
        },
        {
          "output_type": "display_data",
          "data": {
            "image/png": "[encoded data removed]",
            "text/plain": [
              "<Figure size 720x432 with 2 Axes>"
            ]
          },
          "metadata": {
            "tags": [],
            "needs_background": "light"
          }
        }
      ]
    },
    {
      "cell_type": "markdown",
      "metadata": {
        "id": "MYTVTRKriUUy"
      },
      "source": [
        "Корелляция выше и явно видно что слово критиков имеет вес."
      ]
    },
    {
      "cell_type": "markdown",
      "metadata": {
        "id": "XJ05Q2PTiUUy"
      },
      "source": [
        "+ Соотнесите выводы с продажами игр на других платформах.\n",
        "\n",
        "Возьмем PS4 для примера"
      ]
    },
    {
      "cell_type": "code",
      "metadata": {
        "id": "suyrSiyKiUUy",
        "outputId": "b3490425-60f1-444b-8c91-01c59ccfe7ca"
      },
      "source": [
        "df_r.query('platform == \"PS4\" and user_score != -1').plot(y='sum_sales', x='user_score', kind='hexbin', gridsize=20, \n",
        "          figsize=(10, 6), sharex=False, grid=True,cmap = 'PuRd', title=\"Dependence of the summary sales on PS4 on the users rating score\")\n",
        "print(\"Корреляция =\", df_r.query('platform == \"PS4\" and user_score != -1')['user_score'].corr(df_r.query('platform == \"PS4\" and user_score != -1')['sum_sales']))"
      ],
      "execution_count": null,
      "outputs": [
        {
          "output_type": "stream",
          "text": [
            "Корреляция = -0.027033058622341188\n"
          ],
          "name": "stdout"
        },
        {
          "output_type": "display_data",
          "data": {
            "image/png": "[encoded data removed]",
            "text/plain": [
              "<Figure size 720x432 with 2 Axes>"
            ]
          },
          "metadata": {
            "tags": [],
            "needs_background": "light"
          }
        }
      ]
    },
    {
      "cell_type": "code",
      "metadata": {
        "id": "fM52UpmIiUUy",
        "outputId": "e80de9e6-62a1-45fe-817e-0ab8018f0a1b"
      },
      "source": [
        "df_r.query('platform == \"PS4\" and critic_score != -1').plot(y='sum_sales', x='critic_score', kind='hexbin', gridsize=20, \n",
        "          figsize=(10, 6), sharex=False, grid=True,cmap = 'PuRd', title=\"Dependence of the summary sales on PS4 on the critics rating score\")\n",
        "print(\"Корреляция =\", df_r.query('platform == \"PS4\" and critic_score != -1')['critic_score'].corr(df_r.query('platform == \"PS4\" and critic_score != -1')['sum_sales']))"
      ],
      "execution_count": null,
      "outputs": [
        {
          "output_type": "stream",
          "text": [
            "Корреляция = 0.40656790206178095\n"
          ],
          "name": "stdout"
        },
        {
          "output_type": "display_data",
          "data": {
            "image/png": "[encoded data removed]",
            "text/plain": [
              "<Figure size 720x432 with 2 Axes>"
            ]
          },
          "metadata": {
            "tags": [],
            "needs_background": "light"
          }
        }
      ]
    },
    {
      "cell_type": "markdown",
      "metadata": {
        "id": "3C4z5TnRiUUz"
      },
      "source": [
        "Тендеции описанные в случае XOne сохраняются и на других платформах."
      ]
    },
    {
      "cell_type": "markdown",
      "metadata": {
        "id": "_xqWWogCiUU0"
      },
      "source": [
        "+ Посмотрите на общее распределение игр по жанрам. Что можно сказать о самых прибыльных жанрах? Выделяются ли жанры с высокими и низкими продажами?"
      ]
    },
    {
      "cell_type": "code",
      "metadata": {
        "id": "9HFlHJ6XiUU0",
        "outputId": "a3600710-e51a-423c-9d59-7dd2058093c9"
      },
      "source": [
        "df_r.groupby('genre')['sum_sales'].sum().sort_values(ascending=False).plot(kind = 'bar',title = 'Genre and summary sales',figsize=(15,5))\n"
      ],
      "execution_count": null,
      "outputs": [
        {
          "output_type": "execute_result",
          "data": {
            "text/plain": [
              "<matplotlib.axes._subplots.AxesSubplot at 0x7f9288e942d0>"
            ]
          },
          "metadata": {
            "tags": []
          },
          "execution_count": 49
        },
        {
          "output_type": "display_data",
          "data": {
            "image/png": "[encoded data removed]",
            "text/plain": [
              "<Figure size 1080x360 with 1 Axes>"
            ]
          },
          "metadata": {
            "tags": [],
            "needs_background": "light"
          }
        }
      ]
    },
    {
      "cell_type": "markdown",
      "metadata": {
        "id": "wLI6twU8iUU0"
      },
      "source": [
        "Можно сказать что более активные и динамичные жанры имеют большие продажи, и наоборот, жанры с неторопящимся геемплеем и необходимость много и долго думать имеют более низкие продажи."
      ]
    },
    {
      "cell_type": "markdown",
      "metadata": {
        "id": "0WUvDTC7iUU0"
      },
      "source": [
        "# Шаг 4. Составьте портрет пользователя каждого региона <a id='step4'></a>"
      ]
    },
    {
      "cell_type": "markdown",
      "metadata": {
        "id": "M4UgFVSuiUU1"
      },
      "source": [
        "Определите для пользователя каждого региона (NA, EU, JP):\n",
        "+ Самые популярные платформы (топ-5). Опишите различия в долях продаж.\n",
        "+ Самые популярные жанры (топ-5). Поясните разницу.\n",
        "+ Влияет ли рейтинг ESRB на продажи в отдельном регионе?"
      ]
    },
    {
      "cell_type": "code",
      "metadata": {
        "id": "HY8fZ1qaiUU1",
        "outputId": "b65f4efd-aa25-483c-edf4-6c0a727e7c9e"
      },
      "source": [
        "df_r.groupby('platform')['na_sales'].sum().sort_values(ascending=False)[:5]"
      ],
      "execution_count": null,
      "outputs": [
        {
          "output_type": "execute_result",
          "data": {
            "text/plain": [
              "platform\n",
              "PS4     108.74\n",
              "XOne     93.12\n",
              "X360     81.66\n",
              "PS3      63.50\n",
              "3DS      38.20\n",
              "Name: na_sales, dtype: float64"
            ]
          },
          "metadata": {
            "tags": []
          },
          "execution_count": 50
        }
      ]
    },
    {
      "cell_type": "code",
      "metadata": {
        "id": "Gb1pXj1ciUU1",
        "outputId": "ef1aaf79-c8f5-4a6f-dad8-c91c422f1a13"
      },
      "source": [
        "df_r.groupby('platform')['eu_sales'].sum().sort_values(ascending=False)[:5]"
      ],
      "execution_count": null,
      "outputs": [
        {
          "output_type": "execute_result",
          "data": {
            "text/plain": [
              "platform\n",
              "PS4     141.09\n",
              "PS3      67.81\n",
              "XOne     51.59\n",
              "X360     42.52\n",
              "3DS      30.96\n",
              "Name: eu_sales, dtype: float64"
            ]
          },
          "metadata": {
            "tags": []
          },
          "execution_count": 51
        }
      ]
    },
    {
      "cell_type": "code",
      "metadata": {
        "id": "zUGxKhE9iUU1",
        "outputId": "114d3761-b2bc-40d2-9a01-731fd60c5b08"
      },
      "source": [
        "df_r.groupby('platform')['jp_sales'].sum().sort_values(ascending=False)[:5]"
      ],
      "execution_count": null,
      "outputs": [
        {
          "output_type": "execute_result",
          "data": {
            "text/plain": [
              "platform\n",
              "3DS     67.81\n",
              "PS3     23.35\n",
              "PSV     18.59\n",
              "PS4     15.96\n",
              "WiiU    10.88\n",
              "Name: jp_sales, dtype: float64"
            ]
          },
          "metadata": {
            "tags": []
          },
          "execution_count": 52
        }
      ]
    },
    {
      "cell_type": "markdown",
      "metadata": {
        "id": "Zf5Ob8GoiUU2"
      },
      "source": [
        "У северной америки и европы рейтинги топ 5 самых популярных платформ выглядят очень похожими.\n",
        "Единственные различия в том что в na преобладает приставка созданная там (X360 - Microsoft) а в европе в примерно равной степени представленны приставки из разных стран.\n",
        "\n",
        "Тогда как в японии топ популярных платформ сильно отличается. Тут преобладают приставки произведенные в японии и тут они сильно подавляют американские аналоги. \n",
        "\n",
        "Так же нельзя не отметить любовь японцев к портативным приставкам, в топе их большинство (3/5 приставок)"
      ]
    },
    {
      "cell_type": "code",
      "metadata": {
        "id": "fo8gp0PSiUU2",
        "outputId": "861fd605-213d-48cc-cc0d-c9bdb72057bd"
      },
      "source": [
        "df_r.groupby('genre')['na_sales'].sum().sort_values(ascending=False)[:5]"
      ],
      "execution_count": null,
      "outputs": [
        {
          "output_type": "execute_result",
          "data": {
            "text/plain": [
              "genre\n",
              "Action          126.05\n",
              "Shooter         109.74\n",
              "Sports           65.27\n",
              "Role-Playing     46.40\n",
              "Misc             27.49\n",
              "Name: na_sales, dtype: float64"
            ]
          },
          "metadata": {
            "tags": []
          },
          "execution_count": 53
        }
      ]
    },
    {
      "cell_type": "code",
      "metadata": {
        "id": "Xk5O8WrkiUU2",
        "outputId": "ee5d8e02-2654-4e7b-c6de-90f0d4398fab"
      },
      "source": [
        "df_r.groupby('genre')['eu_sales'].sum().sort_values(ascending=False)[:5]"
      ],
      "execution_count": null,
      "outputs": [
        {
          "output_type": "execute_result",
          "data": {
            "text/plain": [
              "genre\n",
              "Action          118.13\n",
              "Shooter          87.86\n",
              "Sports           60.52\n",
              "Role-Playing     36.97\n",
              "Racing           20.19\n",
              "Name: eu_sales, dtype: float64"
            ]
          },
          "metadata": {
            "tags": []
          },
          "execution_count": 54
        }
      ]
    },
    {
      "cell_type": "code",
      "metadata": {
        "id": "rJDX-cAgiUU2",
        "outputId": "bcb3adf0-b22c-461b-e3d5-b9b262663f7d"
      },
      "source": [
        "df_r.groupby('genre')['jp_sales'].sum().sort_values(ascending=False)[:5]"
      ],
      "execution_count": null,
      "outputs": [
        {
          "output_type": "execute_result",
          "data": {
            "text/plain": [
              "genre\n",
              "Role-Playing    51.04\n",
              "Action          40.49\n",
              "Misc             9.20\n",
              "Fighting         7.65\n",
              "Shooter          6.61\n",
              "Name: jp_sales, dtype: float64"
            ]
          },
          "metadata": {
            "tags": []
          },
          "execution_count": 55
        }
      ]
    },
    {
      "cell_type": "markdown",
      "metadata": {
        "id": "Fut7kEONiUU3"
      },
      "source": [
        "Тенденция сохраняется - вкусы америки и европы в целом очень схожи, отличаются лишь в 1 позиции. \n",
        "\n",
        "Общая тенденция - людям больше нравятся динамичные игры из жанров Action Sports Shooter и подобное.\n",
        "\n",
        "В целом и япония следует этому за исключением рп игр. В японии они очень расспространены, потому что игры именно этого жанра стали первыми в японии. Даже существует отдельный жанр игр JRPG (Japan RPG) присущий играм по ролям именно из японии."
      ]
    },
    {
      "cell_type": "code",
      "metadata": {
        "id": "EwKNFfFUiUU3",
        "outputId": "d9c3532f-93ae-431e-a808-8ea2019708be"
      },
      "source": [
        "fig, ax = plt.subplots()\n",
        "ax.set_title(\"Dependence of sales on ESRB rating on NA\")\n",
        "axis = ax.pie(df_r.groupby('rating')['na_sales'].sum().sort_values(ascending=False)[:5], \n",
        "              labels=df_r.groupby('rating')['na_sales'].sum().sort_values(ascending=False).index[:5],\n",
        "             autopct='%1.1f%%',\n",
        "             explode=(0.15, 0.1, 0.05, 0,0),\n",
        "             )"
      ],
      "execution_count": null,
      "outputs": [
        {
          "output_type": "display_data",
          "data": {
            "image/png": "[encoded data removed]",
            "text/plain": [
              "<Figure size 432x288 with 1 Axes>"
            ]
          },
          "metadata": {
            "tags": []
          }
        }
      ]
    },
    {
      "cell_type": "code",
      "metadata": {
        "id": "-07ksnW0iUU3",
        "outputId": "3dab71b4-c28e-4b90-bf4d-3e725a5e2f17"
      },
      "source": [
        "fig, ax = plt.subplots()\n",
        "ax.set_title(\"Dependence of sales on ESRB rating on EU\")\n",
        "axis = ax.pie(df_r.groupby('rating')['eu_sales'].sum().sort_values(ascending=False)[:5], \n",
        "              labels=df_r.groupby('rating')['na_sales'].sum().sort_values(ascending=False).index[:5],\n",
        "             autopct='%1.1f%%',\n",
        "             explode=(0.15, 0.1, 0.05, 0,0),\n",
        "             )"
      ],
      "execution_count": null,
      "outputs": [
        {
          "output_type": "display_data",
          "data": {
            "image/png": "[encoded data removed]",
            "text/plain": [
              "<Figure size 432x288 with 1 Axes>"
            ]
          },
          "metadata": {
            "tags": []
          }
        }
      ]
    },
    {
      "cell_type": "code",
      "metadata": {
        "id": "vRq7phPciUU3",
        "outputId": "bd4f4d06-f55e-4be9-cdcc-9d5d2326818e"
      },
      "source": [
        "fig, ax = plt.subplots()\n",
        "ax.set_title(\"Dependence of sales on ESRB rating on JP\")\n",
        "axis = ax.pie(df_r.groupby('rating')['jp_sales'].sum().sort_values(ascending=False)[:5], \n",
        "              labels=df_r.groupby('rating')['na_sales'].sum().sort_values(ascending=False).index[:5],\n",
        "             autopct='%1.1f%%',\n",
        "             explode=(0.15, 0.1, 0.05, 0,0),\n",
        "             )"
      ],
      "execution_count": null,
      "outputs": [
        {
          "output_type": "display_data",
          "data": {
            "image/png": "[encoded data removed]",
            "text/plain": [
              "<Figure size 432x288 with 1 Axes>"
            ]
          },
          "metadata": {
            "tags": []
          }
        }
      ]
    },
    {
      "cell_type": "markdown",
      "metadata": {
        "id": "ALKbY9W9iUU4"
      },
      "source": [
        "Общая тенденция - люди чаще покупаю игры рейтинга М (взрослые) что логично, потом идут E (everyone), потом T (подростки) и в целом в этом есть логика.\n",
        "\n",
        "Все страны вписываются в эту тенденцию. Единственное различие что в японии игры группы M покупают значительно чаще чем в других странах. но в общем и целом это не выбивается из концепции."
      ]
    },
    {
      "cell_type": "markdown",
      "metadata": {
        "id": "8b8UzdsGiUU4"
      },
      "source": [
        "# Шаг 5. Проверьте гипотезы <a id='step5'></a>"
      ]
    },
    {
      "cell_type": "markdown",
      "metadata": {
        "id": "VIKTVjHAiUU4"
      },
      "source": [
        "+ Средние пользовательские рейтинги платформ Xbox One и PC одинаковые;"
      ]
    },
    {
      "cell_type": "markdown",
      "metadata": {
        "id": "N4NexQNdiUU4"
      },
      "source": [
        "Формируем нулевую гипотезу H₀ (по принципу равенства):\n",
        "+ средние пользовательские рейтинги платформ Xbox One и PC равны\n",
        "\n",
        "\n",
        "Формируем альтернативую гипотезу H₁ (берем альтернативу от нулевой гипотезы):\n",
        "+ средние пользовательские рейтинги платформ Xbox One и PC различаются\n",
        "\n",
        "\n",
        "и проверим их"
      ]
    },
    {
      "cell_type": "code",
      "metadata": {
        "id": "PNG4bO9ViUU5",
        "outputId": "77c98d7c-e175-42e6-b284-036f5b54facb"
      },
      "source": [
        "xone = df_r.query('platform == \"XOne\"')['user_score']\n",
        "pc = df_r.query('platform == \"PC\"')['user_score']\n",
        "len(xone),len(pc)"
      ],
      "execution_count": null,
      "outputs": [
        {
          "output_type": "execute_result",
          "data": {
            "text/plain": [
              "(247, 189)"
            ]
          },
          "metadata": {
            "tags": []
          },
          "execution_count": 64
        }
      ]
    },
    {
      "cell_type": "markdown",
      "metadata": {
        "id": "5Q3h2SgriUU5"
      },
      "source": [
        "Возьмем альфа равное 5%"
      ]
    },
    {
      "cell_type": "code",
      "metadata": {
        "id": "vz-HfZdiiUU5",
        "outputId": "4be702ea-6859-4efb-d661-397c578b3f33"
      },
      "source": [
        "res = st.ttest_ind(xone,pc, equal_var=False)\n",
        "alpha = .05\n",
        "print('p-значение:', res.pvalue)\n",
        "\n",
        "if (res.pvalue < alpha):\n",
        "    print(\"Отвергаем нулевую гипотезу\")\n",
        "else:\n",
        "    print(\"Не получилось отвергнуть нулевую гипотезу\")"
      ],
      "execution_count": null,
      "outputs": [
        {
          "output_type": "stream",
          "text": [
            "p-значение: 0.27307115058550335\n",
            "Не получилось отвергнуть нулевую гипотезу\n"
          ],
          "name": "stdout"
        }
      ]
    },
    {
      "cell_type": "markdown",
      "metadata": {
        "id": "iSwI_mKWiUU5"
      },
      "source": [
        "Гипотезу о равенстве среднего пользовательского рейтинга для XOne и PC не получилось отвергнуть. Утверждение о том что средние рейтинги для этих платформ различаются, ошибочно в 27% случаем."
      ]
    },
    {
      "cell_type": "markdown",
      "metadata": {
        "id": "serhDl0ciUU6"
      },
      "source": [
        "+ Средние пользовательские рейтинги жанров Action (англ. «действие», экшен-игры) и Sports (англ. «спортивные соревнования») разные."
      ]
    },
    {
      "cell_type": "markdown",
      "metadata": {
        "id": "M0PKq1msiUU6"
      },
      "source": [
        "Формируем нулевую гипотезу H₀ (по принципу равенства):\n",
        "+ средние пользовательские рейтинги жанров Action (англ. «действие») и Sports (англ. «виды спорта») равны\n",
        "\n",
        "\n",
        "Формируем альтернативую гипотезу H₁ (берем альтернативу от нулевой гипотезы):\n",
        "+ средние пользовательские рейтинги жанров Action (англ. «действие») и Sports (англ. «виды спорта») отличаются"
      ]
    },
    {
      "cell_type": "code",
      "metadata": {
        "id": "gdoLpPkjiUU6",
        "outputId": "90d5612e-2c39-4736-da3a-b4cdbd9a5ce5"
      },
      "source": [
        "action = df_r.query('genre == \"Action\"')['user_score']\n",
        "sports = df_r.query('genre == \"Sports\"')['user_score']\n",
        "alpha = .05\n",
        "\n",
        "res = st.ttest_ind( action, sports, equal_var=False)\n",
        "\n",
        "print('p-значение: {:0.20f}'.format(res.pvalue))\n",
        "\n",
        "if (res.pvalue < alpha):\n",
        "    print(\"Отвергаем нулевую гипотезу\")\n",
        "else:\n",
        "    print(\"Не получилось отвергнуть нулевую гипотезу\")"
      ],
      "execution_count": null,
      "outputs": [
        {
          "output_type": "stream",
          "text": [
            "p-значение: 0.01316245074888930562\n",
            "Отвергаем нулевую гипотезу\n"
          ],
          "name": "stdout"
        }
      ]
    },
    {
      "cell_type": "code",
      "metadata": {
        "id": "L5bkyRAsiUU7",
        "outputId": "0bb10e7f-402d-4931-8cc8-4f88341a9c09"
      },
      "source": [
        "df_res = df_r.query('genre == \"Action\" or genre == \"Sports\"')\n",
        "df_res.pivot_table(index='genre', values='user_score', aggfunc='mean')"
      ],
      "execution_count": null,
      "outputs": [
        {
          "output_type": "execute_result",
          "data": {
            "text/html": [
              "<div>\n",
              "<style scoped>\n",
              "    .dataframe tbody tr th:only-of-type {\n",
              "        vertical-align: middle;\n",
              "    }\n",
              "\n",
              "    .dataframe tbody tr th {\n",
              "        vertical-align: top;\n",
              "    }\n",
              "\n",
              "    .dataframe thead th {\n",
              "        text-align: right;\n",
              "    }\n",
              "</style>\n",
              "<table border=\"1\" class=\"dataframe\">\n",
              "  <thead>\n",
              "    <tr style=\"text-align: right;\">\n",
              "      <th></th>\n",
              "      <th>user_score</th>\n",
              "    </tr>\n",
              "    <tr>\n",
              "      <th>genre</th>\n",
              "      <th></th>\n",
              "    </tr>\n",
              "  </thead>\n",
              "  <tbody>\n",
              "    <tr>\n",
              "      <td>Action</td>\n",
              "      <td>2.740209</td>\n",
              "    </tr>\n",
              "    <tr>\n",
              "      <td>Sports</td>\n",
              "      <td>3.350467</td>\n",
              "    </tr>\n",
              "  </tbody>\n",
              "</table>\n",
              "</div>"
            ],
            "text/plain": [
              "        user_score\n",
              "genre             \n",
              "Action    2.740209\n",
              "Sports    3.350467"
            ]
          },
          "metadata": {
            "tags": []
          },
          "execution_count": 74
        }
      ]
    },
    {
      "cell_type": "markdown",
      "metadata": {
        "id": "VNDZlsTZiUU7"
      },
      "source": [
        "Можно утверждать с уверенностью 99,7% , что средние пользовательские рейтинги для жанров Action и Sports различаются. При выборе между игрой этих двух жанров, лучше отдать предпочтение жанру Sports."
      ]
    },
    {
      "cell_type": "markdown",
      "metadata": {
        "id": "FRkSbZqEiUU-"
      },
      "source": [
        "# Шаг 6. Общий вывод <a id='step6'></a>"
      ]
    },
    {
      "cell_type": "markdown",
      "metadata": {
        "id": "f_R1p42iiUU-"
      },
      "source": [
        "Исследование показало что есть ряд наилучших характеристик для игры:\n",
        "\n",
        "+ Лучшие платфрмы для Америки и Европы - PS3, Xbo360, PS4, для Японии - 3DS и PS3\n",
        "\n",
        "\n",
        "+ Лучшие жанры: Action,Sports для Америки и Европы, Role-Playing — для Японии.\n",
        "    \n",
        "    \n",
        "+ Лучший возрастной рейтинг ESRB для Америки, Европы и Японии - M и E.\n",
        "\n",
        "\n",
        "+ Оценки пользователей на продажи практически не влияют. Отзывы критиков влияют больше, на них стоит обращать внимание."
      ]
    }
  ]
}
